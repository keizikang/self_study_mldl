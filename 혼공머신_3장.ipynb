{
  "nbformat": 4,
  "nbformat_minor": 0,
  "metadata": {
    "colab": {
      "name": "혼공머신 3장.ipynb",
      "provenance": [],
      "collapsed_sections": [],
      "authorship_tag": "ABX9TyNCLThQiFRcZ55TraBmKOTZ",
      "include_colab_link": true
    },
    "kernelspec": {
      "name": "python3",
      "display_name": "Python 3"
    },
    "language_info": {
      "name": "python"
    }
  },
  "cells": [
    {
      "cell_type": "markdown",
      "metadata": {
        "id": "view-in-github",
        "colab_type": "text"
      },
      "source": [
        "<a href=\"https://colab.research.google.com/github/keizikang/self_study_mldl/blob/main/%ED%98%BC%EA%B3%B5%EB%A8%B8%EC%8B%A0_3%EC%9E%A5.ipynb\" target=\"_parent\"><img src=\"https://colab.research.google.com/assets/colab-badge.svg\" alt=\"Open In Colab\"/></a>"
      ]
    },
    {
      "cell_type": "markdown",
      "source": [
        "# 3장: 회귀 알고리즘과 모델 규제: 농어의 무게를 예측하라!"
      ],
      "metadata": {
        "id": "6BShyp-42d2O"
      }
    },
    {
      "cell_type": "markdown",
      "source": [
        "## 3-1 k-최근접 이웃 회귀"
      ],
      "metadata": {
        "id": "P_YgjUrz2ljy"
      }
    },
    {
      "cell_type": "markdown",
      "source": [
        "지난번까지 했던 건 길이와 무게로부터 분류Classify 하는 것\n",
        "\n",
        "즉, 주어진 특성값feature으로부터 class를 찾아가는 것\n",
        "\n",
        "이번에 할 것은 특성값으로 다른 특성값을 유추하는 것 -> 회귀\n",
        "\n",
        "---\n",
        "  * **분류: 비슷한 것들끼리는 비슷한 특성값을 가질 것이다.**\n",
        "    * 예: 도미끼리는 특성값(길이, 무게)이 비슷할 것이다.\n",
        "    * 분류이므로 결과값은 이산값임\n",
        "  * **회귀: 비슷한 것들끼리는 특성값의 관계도 비슷할 것이다.**\n",
        "    * 예: 길이가 비슷한 농어들은 무게도 비슷할 것이다.\n",
        "    * 회귀이므로 결과값은 연속값임\n",
        "\n",
        "---\n",
        "훈련 데이터로 농어perch의 길이와 무게 56개가 있음\n",
        "\n",
        "새로운 길이가 들어왔을 때 무게를 추정하고자 함\n",
        "\n",
        "우선 데이터 확인\n"
      ],
      "metadata": {
        "id": "M9T7dyre2r1Z"
      }
    },
    {
      "cell_type": "code",
      "execution_count": 1,
      "metadata": {
        "colab": {
          "base_uri": "https://localhost:8080/",
          "height": 279
        },
        "id": "zB-UOehm2Tv1",
        "outputId": "8d04fe7e-034c-46f6-80b1-4a8f049760d4"
      },
      "outputs": [
        {
          "output_type": "display_data",
          "data": {
            "text/plain": [
              "<Figure size 432x288 with 1 Axes>"
            ],
            "image/png": "[encoded data removed]"
          },
          "metadata": {
            "needs_background": "light"
          }
        }
      ],
      "source": [
        "import numpy as np\n",
        "\n",
        "# perch data from bit.ly/perch_data\n",
        "perch_length = np.array([8.4, 13.7, 15.0, 16.2, 17.4, 18.0, 18.7, 19.0, 19.6, 20.0, 21.0,\n",
        "       21.0, 21.0, 21.3, 22.0, 22.0, 22.0, 22.0, 22.0, 22.5, 22.5, 22.7,\n",
        "       23.0, 23.5, 24.0, 24.0, 24.6, 25.0, 25.6, 26.5, 27.3, 27.5, 27.5,\n",
        "       27.5, 28.0, 28.7, 30.0, 32.8, 34.5, 35.0, 36.5, 36.0, 37.0, 37.0,\n",
        "       39.0, 39.0, 39.0, 40.0, 40.0, 40.0, 40.0, 42.0, 43.0, 43.0, 43.5,\n",
        "       44.0])\n",
        "perch_weight = np.array([5.9, 32.0, 40.0, 51.5, 70.0, 100.0, 78.0, 80.0, 85.0, 85.0, 110.0,\n",
        "       115.0, 125.0, 130.0, 120.0, 120.0, 130.0, 135.0, 110.0, 130.0,\n",
        "       150.0, 145.0, 150.0, 170.0, 225.0, 145.0, 188.0, 180.0, 197.0,\n",
        "       218.0, 300.0, 260.0, 265.0, 250.0, 250.0, 300.0, 320.0, 514.0,\n",
        "       556.0, 840.0, 685.0, 700.0, 700.0, 690.0, 900.0, 650.0, 820.0,\n",
        "       850.0, 900.0, 1015.0, 820.0, 1100.0, 1000.0, 1100.0, 1000.0,\n",
        "       1000.0])\n",
        "\n",
        "import matplotlib.pyplot as plt\n",
        "plt.scatter(perch_length, perch_weight, label='perch, full data')\n",
        "plt.xlabel('length')\n",
        "plt.ylabel('weight')\n",
        "plt.legend()\n",
        "plt.show()"
      ]
    },
    {
      "cell_type": "markdown",
      "source": [
        "전체 데이터를 훈련 세트와 테스트 세트로 나누고\n",
        "\n",
        "np.reshape으로 크기를 맞춰줌\n",
        "\n",
        "다시 그래프로 확인해보겠음"
      ],
      "metadata": {
        "id": "t6WVvxF58US1"
      }
    },
    {
      "cell_type": "code",
      "source": [
        "from sklearn.model_selection import train_test_split\n",
        "train_input, test_input, train_target, test_target = train_test_split(\n",
        "    perch_length, perch_weight, random_state=42)\n",
        "\n",
        "# 사이킷런에 입력하는 훈련 세트는 행 방향으로 각 샘플이 들어감\n",
        "# 즉, 훈련 세트의 행 개수가 샘플 개수와 같아야 함\n",
        "# numpy의 reshape을 이용해서 해결\n",
        "\n",
        "train_input = train_input.reshape(-1, 1) # (42, 1)이 됨\n",
        "test_input = test_input.reshape(-1, 1) # (14, 1)이 됨\n",
        "\n",
        "plt.scatter(train_input, train_target, label='perch, train')\n",
        "plt.scatter(test_input, test_target, label='perch, test')\n",
        "plt.xlabel('length')\n",
        "plt.ylabel('weight')\n",
        "plt.legend()\n",
        "plt.show()"
      ],
      "metadata": {
        "colab": {
          "base_uri": "https://localhost:8080/",
          "height": 279
        },
        "id": "zW2nRr_o5FXD",
        "outputId": "f5661f49-2105-4e6c-85ef-b88606930c7b"
      },
      "execution_count": 2,
      "outputs": [
        {
          "output_type": "display_data",
          "data": {
            "text/plain": [
              "<Figure size 432x288 with 1 Axes>"
            ],
            "image/png": "[encoded data removed]"
          },
          "metadata": {
            "needs_background": "light"
          }
        }
      ]
    },
    {
      "cell_type": "markdown",
      "source": [
        "참고 (중요): [KNeighborsRegressor.fit(X, y)](https://scikit-learn.org/stable/modules/generated/sklearn.neighbors.KNeighborsRegressor.html#sklearn.neighbors.KNeighborsRegressor.fit)\n",
        " \n",
        "fit(X, y)\n",
        "\n",
        "Parameters\n",
        "\n",
        "X: Training data of shape (n_samples, n_features)\n",
        "\n",
        "y: Target values of shape (n_samples,)\n",
        "\n",
        "Training data는 첫 번째 차원이 샘플 차원임 said [저자](https://groups.google.com/g/ml-dl-book-qna/c/bOgyl1D8pyY)\n"
      ],
      "metadata": {
        "id": "eR6vUPTZ88o0"
      }
    },
    {
      "cell_type": "markdown",
      "source": [
        "k-최근접 이웃 회귀 알고리즘은 KNeighborsRegressor 클래스를 이용함"
      ],
      "metadata": {
        "id": "LZhi9Rrw_AK7"
      }
    },
    {
      "cell_type": "code",
      "source": [
        "from sklearn.neighbors import KNeighborsRegressor\n",
        "\n",
        "knr = KNeighborsRegressor()\n",
        "\n",
        "knr.fit(train_input, train_target)\n",
        "\n",
        "knr.score(test_input, test_target)"
      ],
      "metadata": {
        "colab": {
          "base_uri": "https://localhost:8080/"
        },
        "id": "KTe6g0r688Vl",
        "outputId": "f603ff40-4211-40a8-a53f-ed5dfe784a0d"
      },
      "execution_count": 3,
      "outputs": [
        {
          "output_type": "execute_result",
          "data": {
            "text/plain": [
              "0.992809406101064"
            ]
          },
          "metadata": {},
          "execution_count": 3
        }
      ]
    },
    {
      "cell_type": "markdown",
      "source": [
        "knr.score가 반환하는 값은 결정계수coefficient of determination\n",
        "\n",
        "R<sup>2</sup>라고도 부르며 계산식은 아래와 같음\n",
        "\n",
        "$ R^2 = 1 - {{\\Sigma(타겟-예측)^2} \\over {\\Sigma(타겟-타겟평균)^2}} $\n",
        "\n",
        "타겟과 예측이 일치하면 R<sup>2</sup>=1이 됨\n",
        "\n",
        "예측이 아주 많이 이상하면 R<sup>2</sup>는 음수가 될 수 있음\n",
        "\n",
        "아래 코드는 R<sup>2</sup>를 직접 계산해본 것\n",
        "\n",
        "knr.score()의 결과와 동일함을 알 수 있음"
      ],
      "metadata": {
        "id": "yhryxM3OE_8C"
      }
    },
    {
      "cell_type": "code",
      "source": [
        "prediction = knr.predict(test_input)\n",
        "\n",
        "num = np.linalg.norm(test_target - prediction)**2\n",
        "den = np.linalg.norm(test_target - np.mean(test_target))**2\n",
        "\n",
        "R2 = 1 - num/den\n",
        "\n",
        "R2"
      ],
      "metadata": {
        "colab": {
          "base_uri": "https://localhost:8080/"
        },
        "id": "LXo3dRcDDAfo",
        "outputId": "4541e915-0408-42e2-d3a8-da9366a50814"
      },
      "execution_count": 4,
      "outputs": [
        {
          "output_type": "execute_result",
          "data": {
            "text/plain": [
              "0.992809406101064"
            ]
          },
          "metadata": {},
          "execution_count": 4
        }
      ]
    },
    {
      "cell_type": "markdown",
      "source": [
        "knr.score()에 train_input과 train_target을 넣으면 R<sup>2</sup>가 1이 나올까?\n",
        "\n",
        "안 나옴. knr.n_neighbors가 5이기 때문"
      ],
      "metadata": {
        "id": "ZDFFFNkZHjcs"
      }
    },
    {
      "cell_type": "code",
      "source": [
        "knr.n_neighbors = 5\n",
        "# print(knr.n_neighbors)\n",
        "knr.score(train_input, train_target)"
      ],
      "metadata": {
        "colab": {
          "base_uri": "https://localhost:8080/"
        },
        "id": "IfcUOKEKL-ng",
        "outputId": "13b7f81d-7f5c-4023-d2d3-34506cffcaec"
      },
      "execution_count": 9,
      "outputs": [
        {
          "output_type": "execute_result",
          "data": {
            "text/plain": [
              "0.9698823289099254"
            ]
          },
          "metadata": {},
          "execution_count": 9
        }
      ]
    },
    {
      "cell_type": "markdown",
      "source": [
        "knr.n_neighbors를 1로 바꾸면 자기 자신만 이용해서 예측한 거니까\n",
        "\n",
        "R<sup>2</sup>가 1이 나와야 할까?\n",
        "\n",
        "이것도 1이 안나옴\n",
        "\n",
        "예를 들어 지금 train_input에는 길이 22짜리 농어가 5마리 있음\n",
        "\n",
        "(무게 135, 120, 130, 110, 120)\n",
        "\n",
        "이제 새 입력으로 22가 들어가면\n",
        "\n",
        "같은 입력에 타겟이 5개 있으므로 이 중 뭘 쓸지 알 수 없음\n",
        "\n",
        "확실하진 않지만 가장 앞의 값을 쓰는것 같음 (135)\n",
        "\n",
        "참고로 n_neighbors를 5로 했을 때 22에 대한 predict() 결과는\n",
        "\n",
        "135, 120, 130, 110, 120의 평균인 123임"
      ],
      "metadata": {
        "id": "jwFX_d0xMCEL"
      }
    },
    {
      "cell_type": "code",
      "source": [
        "knr.n_neighbors = 5\n",
        "# print(knr.n_neighbors)\n",
        "print(knr.score(train_input, train_target))\n",
        "\n",
        "# train_input 중 길이 22인 것들만 골라냄\n",
        "idx = np.where(train_input == 22)[0]\n",
        "print(np.hstack((train_input[idx, :], train_target[idx].reshape(-1, 1))))\n",
        "knr.predict([[22]])\n"
      ],
      "metadata": {
        "colab": {
          "base_uri": "https://localhost:8080/"
        },
        "id": "6pux_-HoH3UQ",
        "outputId": "ef819e1b-c71f-4920-9bf1-7c0a193794b6"
      },
      "execution_count": 55,
      "outputs": [
        {
          "output_type": "stream",
          "name": "stdout",
          "text": [
            "0.9698823289099254\n",
            "[[ 22. 135.]\n",
            " [ 22. 120.]\n",
            " [ 22. 130.]\n",
            " [ 22. 110.]\n",
            " [ 22. 120.]]\n"
          ]
        },
        {
          "output_type": "execute_result",
          "data": {
            "text/plain": [
              "array([123.])"
            ]
          },
          "metadata": {},
          "execution_count": 55
        }
      ]
    },
    {
      "cell_type": "markdown",
      "source": [
        "knr.predict()를 이용하면 실제로 모델이 어떤 값으로 예측하는지 알 수 있음\n",
        "\n",
        "아래는 prediction과 target을 비교한 것"
      ],
      "metadata": {
        "id": "H8olbHnbGlvw"
      }
    },
    {
      "cell_type": "code",
      "source": [
        "comparison = np.hstack((prediction, test_target.reshape(-1, 1)))\n",
        "print(comparison)\n",
        "\n"
      ],
      "metadata": {
        "colab": {
          "base_uri": "https://localhost:8080/"
        },
        "id": "7eiV2-UsAz8k",
        "outputId": "4a0ba5c3-8708-4d29-d5b6-66f72f62aeb5"
      },
      "execution_count": 35,
      "outputs": [
        {
          "output_type": "stream",
          "name": "stdout",
          "text": [
            "[[  60.     5.9]\n",
            " [  79.6  100. ]\n",
            " [ 248.   250. ]\n",
            " [ 122.   130. ]\n",
            " [ 136.   130. ]\n",
            " [ 847.   820. ]\n",
            " [ 311.4  320. ]\n",
            " [ 183.4  188. ]\n",
            " [ 847.   900. ]\n",
            " [ 113.   125. ]\n",
            " [1010.  1000. ]\n",
            " [  60.    51.5]\n",
            " [ 248.   250. ]\n",
            " [ 248.   300. ]]\n"
          ]
        }
      ]
    },
    {
      "cell_type": "markdown",
      "source": [
        "첫 번째 놈이 유독 오차가 크다. 이유가 있다. \n",
        "\n",
        "그래프를 보면 맨 왼쪽 주황색 점이 길이 8.4짜리인데,\n",
        "\n",
        "가까운 5개 점이 전부 너무 멀리 있다. \n",
        "\n",
        "실제로 가까운 5개의 무게를 찾아 평균을 계산해보면 딱 60이 나온다."
      ],
      "metadata": {
        "id": "i-VjUsP_CBx-"
      }
    },
    {
      "cell_type": "code",
      "source": [
        "nearest_to_smallest_test = sorted(train_target)[0:5]\n",
        "print(nearest_to_smallest_test)\n",
        "print(np.mean(nearest_to_smallest_test))"
      ],
      "metadata": {
        "colab": {
          "base_uri": "https://localhost:8080/"
        },
        "id": "DuMONqdZBo9i",
        "outputId": "182bcea4-f890-43d2-fc19-041cedd0bec0"
      },
      "execution_count": 37,
      "outputs": [
        {
          "output_type": "stream",
          "name": "stdout",
          "text": [
            "[32.0, 40.0, 70.0, 78.0, 80.0]\n",
            "60.0\n"
          ]
        }
      ]
    },
    {
      "cell_type": "markdown",
      "source": [
        "과대적합overfitting: 훈련 세트 점수 >> 테스트 세트 점수인 경우\n",
        "\n",
        "과소적합underfitting: 훈련 세트 점수 << 테스트 세트 점수, 또는 둘다 낮은 경우\n",
        "\n",
        "지금 훈련 세트 점수가 0.9698823289099254이고\n",
        "\n",
        "테스트 세트 점수가 0.992809406101064이므로\n",
        "\n",
        "과소적합임\n",
        "\n",
        "과소적합을 해결하는 간단한 방법: n_neighbors를 줄이면 됨\n",
        "\n",
        "3으로 해보자"
      ],
      "metadata": {
        "id": "H-vsnlT0QOfm"
      }
    },
    {
      "cell_type": "code",
      "source": [
        "knr.n_neighbors = 3\n",
        "\n",
        "knr.fit(train_input, train_target)\n",
        "\n",
        "print('training set score: ', end='')\n",
        "print(knr.score(train_input, train_target))\n",
        "print('test set score    : ', end='')\n",
        "print(knr.score(test_input, test_target))\n",
        "          "
      ],
      "metadata": {
        "colab": {
          "base_uri": "https://localhost:8080/"
        },
        "id": "ti-otpwGQt7p",
        "outputId": "8b1add57-c480-4554-b721-36cb1f7ea65e"
      },
      "execution_count": 48,
      "outputs": [
        {
          "output_type": "stream",
          "name": "stdout",
          "text": [
            "training set score:0.9804899950518966\n",
            "test set score    :0.9746459963987609\n"
          ]
        }
      ]
    },
    {
      "cell_type": "markdown",
      "source": [
        "로컬한 값의 변화를\n",
        "\n",
        "노이즈로 볼거냐 데이터의 특성을 볼거냐의 차이\n",
        "\n",
        "데이터의 특성을 본다면 n_neighbors를 줄이면 되고\n",
        "\n",
        "그렇게 하면 "
      ],
      "metadata": {
        "id": "W5fcMUB_U00p"
      }
    },
    {
      "cell_type": "code",
      "source": [
        "# Problem 03-1-2\n",
        "\n",
        "knr = KNeighborsRegressor()\n",
        "\n",
        "x = np.arange(5, 45).reshape(-1, 1)\n",
        "\n",
        "for n in [1, 5, 10]:\n",
        "    knr.n_neighbors = n\n",
        "    knr.fit(train_input, train_target)\n",
        "\n",
        "    prediction = knr.predict(x)\n",
        "    \n",
        "    plt.scatter(train_input, train_target)\n",
        "    plt.plot(x, prediction)\n",
        "    plt.title(f'n_neighbors = {n}')\n",
        "    plt.xlabel('length')\n",
        "    plt.ylabel('weight')\n",
        "    plt.show()"
      ],
      "metadata": {
        "colab": {
          "base_uri": "https://localhost:8080/",
          "height": 851
        },
        "id": "U4rnQO4cSoai",
        "outputId": "8e4c4c82-554a-405c-dfb9-e6c22291bbc7"
      },
      "execution_count": 50,
      "outputs": [
        {
          "output_type": "display_data",
          "data": {
            "text/plain": [
              "<Figure size 432x288 with 1 Axes>"
            ],
            "image/png": "[encoded data removed]"
          },
          "metadata": {
            "needs_background": "light"
          }
        },
        {
          "output_type": "display_data",
          "data": {
            "text/plain": [
              "<Figure size 432x288 with 1 Axes>"
            ],
            "image/png": "[encoded data removed]"
          },
          "metadata": {
            "needs_background": "light"
          }
        },
        {
          "output_type": "display_data",
          "data": {
            "text/plain": [
              "<Figure size 432x288 with 1 Axes>"
            ],
            "image/png": "[encoded data removed]"
          },
          "metadata": {
            "needs_background": "light"
          }
        }
      ]
    }
  ]
}