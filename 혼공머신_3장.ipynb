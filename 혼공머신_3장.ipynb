{
  "nbformat": 4,
  "nbformat_minor": 0,
  "metadata": {
    "colab": {
      "name": "혼공머신 3장.ipynb",
      "provenance": [],
      "collapsed_sections": [],
      "authorship_tag": "ABX9TyMDLFRFpJH9en4ty8oaJkhu",
      "include_colab_link": true
    },
    "kernelspec": {
      "name": "python3",
      "display_name": "Python 3"
    },
    "language_info": {
      "name": "python"
    }
  },
  "cells": [
    {
      "cell_type": "markdown",
      "metadata": {
        "id": "view-in-github",
        "colab_type": "text"
      },
      "source": [
        "<a href=\"https://colab.research.google.com/github/keizikang/self_study_mldl/blob/main/%ED%98%BC%EA%B3%B5%EB%A8%B8%EC%8B%A0_3%EC%9E%A5.ipynb\" target=\"_parent\"><img src=\"https://colab.research.google.com/assets/colab-badge.svg\" alt=\"Open In Colab\"/></a>"
      ]
    },
    {
      "cell_type": "markdown",
      "source": [
        "# 3장: 회귀 알고리즘과 모델 규제: 농어의 무게를 예측하라!"
      ],
      "metadata": {
        "id": "6BShyp-42d2O"
      }
    },
    {
      "cell_type": "markdown",
      "source": [
        "## 3-1 k-최근접 이웃 회귀"
      ],
      "metadata": {
        "id": "P_YgjUrz2ljy"
      }
    },
    {
      "cell_type": "markdown",
      "source": [
        "지난번까지 했던 건 길이와 무게로부터 분류Classify 하는 것\n",
        "\n",
        "즉, 주어진 특성값feature으로부터 class를 찾아가는 것\n",
        "\n",
        "이번에 할 것은 특성값으로 다른 특성값을 유추하는 것 -> 회귀\n",
        "\n",
        "---\n",
        "  * **k-최근접 이웃 분류: 비슷한 것들끼리는 비슷한 특성값을 가질 것이다.**\n",
        "    * 예: 도미끼리는 특성값(길이, 무게)이 비슷할 것이다.\n",
        "    * 분류이므로 결과값은 이산값임\n",
        "  * **k-최근접 이웃 회귀: 비슷한 것들끼리는 특성값의 관계도 비슷할 것이다.**\n",
        "    * 예: 길이가 비슷한 농어들은 무게도 비슷할 것이다.\n",
        "    * 회귀이므로 결과값은 연속값임\n",
        "\n",
        "---\n",
        "훈련 데이터로 농어perch의 길이와 무게 56개가 있음\n",
        "\n",
        "새로운 길이가 들어왔을 때 무게를 추정하고자 함\n",
        "\n",
        "우선 데이터 확인\n"
      ],
      "metadata": {
        "id": "M9T7dyre2r1Z"
      }
    },
    {
      "cell_type": "code",
      "execution_count": 2,
      "metadata": {
        "colab": {
          "base_uri": "https://localhost:8080/",
          "height": 279
        },
        "id": "zB-UOehm2Tv1",
        "outputId": "3e8ee78e-7517-4bae-9ce5-2663f9303b69"
      },
      "outputs": [
        {
          "output_type": "display_data",
          "data": {
            "text/plain": [
              "<Figure size 432x288 with 1 Axes>"
            ],
            "image/png": "[encoded data removed]"
          },
          "metadata": {
            "needs_background": "light"
          }
        }
      ],
      "source": [
        "import numpy as np\n",
        "\n",
        "# perch data from bit.ly/perch_data\n",
        "perch_length = np.array([8.4, 13.7, 15.0, 16.2, 17.4, 18.0, 18.7, 19.0, 19.6, 20.0, 21.0,\n",
        "       21.0, 21.0, 21.3, 22.0, 22.0, 22.0, 22.0, 22.0, 22.5, 22.5, 22.7,\n",
        "       23.0, 23.5, 24.0, 24.0, 24.6, 25.0, 25.6, 26.5, 27.3, 27.5, 27.5,\n",
        "       27.5, 28.0, 28.7, 30.0, 32.8, 34.5, 35.0, 36.5, 36.0, 37.0, 37.0,\n",
        "       39.0, 39.0, 39.0, 40.0, 40.0, 40.0, 40.0, 42.0, 43.0, 43.0, 43.5,\n",
        "       44.0])\n",
        "perch_weight = np.array([5.9, 32.0, 40.0, 51.5, 70.0, 100.0, 78.0, 80.0, 85.0, 85.0, 110.0,\n",
        "       115.0, 125.0, 130.0, 120.0, 120.0, 130.0, 135.0, 110.0, 130.0,\n",
        "       150.0, 145.0, 150.0, 170.0, 225.0, 145.0, 188.0, 180.0, 197.0,\n",
        "       218.0, 300.0, 260.0, 265.0, 250.0, 250.0, 300.0, 320.0, 514.0,\n",
        "       556.0, 840.0, 685.0, 700.0, 700.0, 690.0, 900.0, 650.0, 820.0,\n",
        "       850.0, 900.0, 1015.0, 820.0, 1100.0, 1000.0, 1100.0, 1000.0,\n",
        "       1000.0])\n",
        "\n",
        "import matplotlib.pyplot as plt\n",
        "plt.scatter(perch_length, perch_weight, label='perch, full data')\n",
        "plt.xlabel('length')\n",
        "plt.ylabel('weight')\n",
        "plt.legend()\n",
        "plt.show()"
      ]
    },
    {
      "cell_type": "markdown",
      "source": [
        "전체 데이터를 훈련 세트와 테스트 세트로 나누고\n",
        "\n",
        "np.reshape으로 크기를 맞춰줌\n",
        "\n",
        "다시 그래프로 확인해보겠음"
      ],
      "metadata": {
        "id": "t6WVvxF58US1"
      }
    },
    {
      "cell_type": "code",
      "source": [
        "from sklearn.model_selection import train_test_split\n",
        "train_input, test_input, train_target, test_target = train_test_split(\n",
        "    perch_length, perch_weight, random_state=42)\n",
        "\n",
        "# 사이킷런에 입력하는 훈련 세트는 행 방향으로 각 샘플이 들어감\n",
        "# 즉, 훈련 세트의 행 개수가 샘플 개수와 같아야 함\n",
        "# numpy의 reshape을 이용해서 해결\n",
        "\n",
        "train_input = train_input.reshape(-1, 1) # (42, 1)이 됨\n",
        "test_input = test_input.reshape(-1, 1) # (14, 1)이 됨\n",
        "\n",
        "plt.scatter(train_input, train_target, label='perch, train')\n",
        "plt.scatter(test_input, test_target, label='perch, test')\n",
        "plt.xlabel('length')\n",
        "plt.ylabel('weight')\n",
        "plt.legend()\n",
        "plt.show()"
      ],
      "metadata": {
        "colab": {
          "base_uri": "https://localhost:8080/",
          "height": 279
        },
        "id": "zW2nRr_o5FXD",
        "outputId": "0d2f0fcf-7ae6-400b-c9b3-49ffa64bb6c6"
      },
      "execution_count": 3,
      "outputs": [
        {
          "output_type": "display_data",
          "data": {
            "text/plain": [
              "<Figure size 432x288 with 1 Axes>"
            ],
            "image/png": "[encoded data removed]"
          },
          "metadata": {
            "needs_background": "light"
          }
        }
      ]
    },
    {
      "cell_type": "markdown",
      "source": [
        "참고 (중요): [KNeighborsRegressor.fit(X, y)](https://scikit-learn.org/stable/modules/generated/sklearn.neighbors.KNeighborsRegressor.html#sklearn.neighbors.KNeighborsRegressor.fit)\n",
        " \n",
        "fit(X, y)\n",
        "\n",
        "Parameters\n",
        "\n",
        "X: Training data of shape (n_samples, n_features)\n",
        "\n",
        "y: Target values of shape (n_samples,)\n",
        "\n",
        "Training data는 첫 번째 차원이 샘플 차원임 said [저자](https://groups.google.com/g/ml-dl-book-qna/c/bOgyl1D8pyY)\n"
      ],
      "metadata": {
        "id": "eR6vUPTZ88o0"
      }
    },
    {
      "cell_type": "markdown",
      "source": [
        "k-최근접 이웃 회귀 알고리즘은 KNeighborsRegressor 클래스를 이용함"
      ],
      "metadata": {
        "id": "LZhi9Rrw_AK7"
      }
    },
    {
      "cell_type": "code",
      "source": [
        "from sklearn.neighbors import KNeighborsRegressor\n",
        "\n",
        "knr = KNeighborsRegressor()\n",
        "\n",
        "knr.fit(train_input, train_target)\n",
        "\n",
        "knr.score(test_input, test_target)"
      ],
      "metadata": {
        "colab": {
          "base_uri": "https://localhost:8080/"
        },
        "id": "KTe6g0r688Vl",
        "outputId": "e81caf52-9ad1-400f-cdd0-75256f9ecb5a"
      },
      "execution_count": 4,
      "outputs": [
        {
          "output_type": "execute_result",
          "data": {
            "text/plain": [
              "0.992809406101064"
            ]
          },
          "metadata": {},
          "execution_count": 4
        }
      ]
    },
    {
      "cell_type": "markdown",
      "source": [
        "knr.score가 반환하는 값은 결정계수coefficient of determination\n",
        "\n",
        "R<sup>2</sup>라고도 부르며 계산식은 아래와 같음\n",
        "\n",
        "$ R^2 = 1 - {{\\Sigma(타겟-예측)^2} \\over {\\Sigma(타겟-타겟평균)^2}} $\n",
        "\n",
        "타겟과 예측이 일치하면 R<sup>2</sup>=1이 됨\n",
        "\n",
        "예측이 아주 많이 이상하면 R<sup>2</sup>는 음수가 될 수 있음\n",
        "\n",
        "아래 코드는 R<sup>2</sup>를 직접 계산해본 것\n",
        "\n",
        "knr.score()의 결과와 동일함을 알 수 있음"
      ],
      "metadata": {
        "id": "yhryxM3OE_8C"
      }
    },
    {
      "cell_type": "code",
      "source": [
        "prediction = knr.predict(test_input)\n",
        "\n",
        "num = np.linalg.norm(test_target - prediction)**2\n",
        "den = np.linalg.norm(test_target - np.mean(test_target))**2\n",
        "\n",
        "R2 = 1 - num/den\n",
        "\n",
        "R2"
      ],
      "metadata": {
        "colab": {
          "base_uri": "https://localhost:8080/"
        },
        "id": "LXo3dRcDDAfo",
        "outputId": "7faeb7a2-1e05-411d-beb3-fa6f0f2da1fc"
      },
      "execution_count": 5,
      "outputs": [
        {
          "output_type": "execute_result",
          "data": {
            "text/plain": [
              "0.992809406101064"
            ]
          },
          "metadata": {},
          "execution_count": 5
        }
      ]
    },
    {
      "cell_type": "markdown",
      "source": [
        "knr.score()에 train_input과 train_target을 넣으면 R<sup>2</sup>가 1이 나올까?\n",
        "\n",
        "안 나옴. knr.n_neighbors가 5이기 때문"
      ],
      "metadata": {
        "id": "ZDFFFNkZHjcs"
      }
    },
    {
      "cell_type": "code",
      "source": [
        "knr.n_neighbors = 5\n",
        "# print(knr.n_neighbors)\n",
        "knr.score(train_input, train_target)"
      ],
      "metadata": {
        "colab": {
          "base_uri": "https://localhost:8080/"
        },
        "id": "IfcUOKEKL-ng",
        "outputId": "e18a7838-ee52-4bfa-9d52-909d29f248fa"
      },
      "execution_count": 6,
      "outputs": [
        {
          "output_type": "execute_result",
          "data": {
            "text/plain": [
              "0.9698823289099254"
            ]
          },
          "metadata": {},
          "execution_count": 6
        }
      ]
    },
    {
      "cell_type": "markdown",
      "source": [
        "knr.n_neighbors를 1로 바꾸면 자기 자신만 이용해서 예측한 거니까\n",
        "\n",
        "R<sup>2</sup>가 1이 나와야 할까?\n",
        "\n",
        "이것도 1이 안나옴\n",
        "\n",
        "예를 들어 지금 train_input에는 길이 22짜리 농어가 5마리 있음\n",
        "\n",
        "(무게 135, 120, 130, 110, 120)\n",
        "\n",
        "이제 새 입력으로 22가 들어가면\n",
        "\n",
        "같은 입력에 타겟이 5개 있으므로 이 중 뭘 쓸지 알 수 없음\n",
        "\n",
        "확실하진 않지만 가장 앞의 값을 쓰는것 같음 (135)\n",
        "\n",
        "참고로 n_neighbors를 5로 했을 때 22에 대한 predict() 결과는\n",
        "\n",
        "135, 120, 130, 110, 120의 평균인 123임"
      ],
      "metadata": {
        "id": "jwFX_d0xMCEL"
      }
    },
    {
      "cell_type": "code",
      "source": [
        "knr.n_neighbors = 5\n",
        "# print(knr.n_neighbors)\n",
        "print(knr.score(train_input, train_target))\n",
        "\n",
        "# train_input 중 길이 22인 것들만 골라냄\n",
        "idx = np.where(train_input == 22)[0]\n",
        "print(np.hstack((train_input[idx, :], train_target[idx].reshape(-1, 1))))\n",
        "knr.predict([[22]])\n"
      ],
      "metadata": {
        "colab": {
          "base_uri": "https://localhost:8080/"
        },
        "id": "6pux_-HoH3UQ",
        "outputId": "65fb4a5f-249f-456c-9ad5-cad258ee7d40"
      },
      "execution_count": 7,
      "outputs": [
        {
          "output_type": "stream",
          "name": "stdout",
          "text": [
            "0.9698823289099254\n",
            "[[ 22. 135.]\n",
            " [ 22. 120.]\n",
            " [ 22. 130.]\n",
            " [ 22. 110.]\n",
            " [ 22. 120.]]\n"
          ]
        },
        {
          "output_type": "execute_result",
          "data": {
            "text/plain": [
              "array([123.])"
            ]
          },
          "metadata": {},
          "execution_count": 7
        }
      ]
    },
    {
      "cell_type": "markdown",
      "source": [
        "knr.predict()를 이용하면 실제로 모델이 어떤 값으로 예측하는지 알 수 있음\n",
        "\n",
        "아래는 prediction과 target을 비교한 것"
      ],
      "metadata": {
        "id": "H8olbHnbGlvw"
      }
    },
    {
      "cell_type": "code",
      "source": [
        "#comparison = np.hstack((prediction, test_target.reshape(-1, 1)))\n",
        "#print(comparison)\n",
        "\n"
      ],
      "metadata": {
        "id": "7eiV2-UsAz8k"
      },
      "execution_count": 8,
      "outputs": []
    },
    {
      "cell_type": "markdown",
      "source": [
        "첫 번째 놈이 유독 오차가 크다. 이유가 있다. \n",
        "\n",
        "그래프를 보면 맨 왼쪽 주황색 점이 길이 8.4짜리인데,\n",
        "\n",
        "가까운 5개 점이 전부 너무 멀리 있다. \n",
        "\n",
        "실제로 가까운 5개의 무게를 찾아 평균을 계산해보면 딱 60이 나온다."
      ],
      "metadata": {
        "id": "i-VjUsP_CBx-"
      }
    },
    {
      "cell_type": "code",
      "source": [
        "nearest_to_smallest_test = sorted(train_target)[0:5]\n",
        "print(nearest_to_smallest_test)\n",
        "print(np.mean(nearest_to_smallest_test))"
      ],
      "metadata": {
        "colab": {
          "base_uri": "https://localhost:8080/"
        },
        "id": "DuMONqdZBo9i",
        "outputId": "595aa67a-e72f-4874-e480-114054d354e8"
      },
      "execution_count": 9,
      "outputs": [
        {
          "output_type": "stream",
          "name": "stdout",
          "text": [
            "[32.0, 40.0, 70.0, 78.0, 80.0]\n",
            "60.0\n"
          ]
        }
      ]
    },
    {
      "cell_type": "markdown",
      "source": [
        "과대적합overfitting: 훈련 세트 점수 >> 테스트 세트 점수인 경우\n",
        "\n",
        "과소적합underfitting: 훈련 세트 점수 << 테스트 세트 점수, 또는 둘다 낮은 경우\n",
        "\n",
        "지금 훈련 세트 점수가 0.9698823289099254이고\n",
        "\n",
        "테스트 세트 점수가 0.992809406101064이므로\n",
        "\n",
        "과소적합임\n",
        "\n",
        "과소적합을 해결하는 간단한 방법: n_neighbors를 줄이면 됨\n",
        "\n",
        "3으로 해보자"
      ],
      "metadata": {
        "id": "H-vsnlT0QOfm"
      }
    },
    {
      "cell_type": "code",
      "source": [
        "knr.n_neighbors = 3\n",
        "\n",
        "knr.fit(train_input, train_target)\n",
        "\n",
        "print('training set score: ', end='')\n",
        "print(knr.score(train_input, train_target))\n",
        "print('test set score    : ', end='')\n",
        "print(knr.score(test_input, test_target))\n",
        "          "
      ],
      "metadata": {
        "colab": {
          "base_uri": "https://localhost:8080/"
        },
        "id": "ti-otpwGQt7p",
        "outputId": "cb774a2a-244f-46a1-a90e-fb46770b4d1e"
      },
      "execution_count": 10,
      "outputs": [
        {
          "output_type": "stream",
          "name": "stdout",
          "text": [
            "training set score: 0.9804899950518966\n",
            "test set score    : 0.9746459963987609\n"
          ]
        }
      ]
    },
    {
      "cell_type": "markdown",
      "source": [
        "로컬한 값의 변화를\n",
        "\n",
        "노이즈로 볼거냐 데이터의 특성을 볼거냐의 차이\n",
        "\n",
        "데이터의 특성으로 본다면 n_neighbors를 줄이면 되고\n",
        "\n",
        "그렇게 하면 데이터의 로컬한 변화를 그대로 따라가게 되고 당연히 훈련 세트의 점수는 높아짐\n",
        "\n"
      ],
      "metadata": {
        "id": "W5fcMUB_U00p"
      }
    },
    {
      "cell_type": "code",
      "source": [
        "# Problem 03-1-2\n",
        "\n",
        "knr = KNeighborsRegressor()\n",
        "\n",
        "x = np.arange(5, 45).reshape(-1, 1)\n",
        "\n",
        "for n in [1, 5, 10]:\n",
        "    knr.n_neighbors = n\n",
        "    knr.fit(train_input, train_target)\n",
        "\n",
        "    prediction = knr.predict(x)\n",
        "    \n",
        "    plt.scatter(train_input, train_target)\n",
        "    plt.plot(x, prediction)\n",
        "    plt.title(f'n_neighbors = {n}')\n",
        "    plt.xlabel('length')\n",
        "    plt.ylabel('weight')\n",
        "    plt.show()"
      ],
      "metadata": {
        "colab": {
          "base_uri": "https://localhost:8080/",
          "height": 851
        },
        "id": "U4rnQO4cSoai",
        "outputId": "92c0474d-f9e9-4f9d-93bc-4238706a9e84"
      },
      "execution_count": 11,
      "outputs": [
        {
          "output_type": "display_data",
          "data": {
            "text/plain": [
              "<Figure size 432x288 with 1 Axes>"
            ],
            "image/png": "[encoded data removed]"
          },
          "metadata": {
            "needs_background": "light"
          }
        },
        {
          "output_type": "display_data",
          "data": {
            "text/plain": [
              "<Figure size 432x288 with 1 Axes>"
            ],
            "image/png": "[encoded data removed]"
          },
          "metadata": {
            "needs_background": "light"
          }
        },
        {
          "output_type": "display_data",
          "data": {
            "text/plain": [
              "<Figure size 432x288 with 1 Axes>"
            ],
            "image/png": "[encoded data removed]"
          },
          "metadata": {
            "needs_background": "light"
          }
        }
      ]
    },
    {
      "cell_type": "markdown",
      "source": [
        "## 3-2. 선형 회귀\n",
        "\n",
        "앞에서 다뤘던 k-최근접 이웃 회귀는 \n",
        "\n",
        "비슷한 것들끼리는 특성값의 관계도 비슷할 것이라는 가정을 기반으로 한 방법임\n",
        "\n",
        "예를 들어 길이가 비슷한 농어들은 무게도 비슷할 것이라고 가정함\n",
        "\n",
        "---\n",
        "\n",
        "만약 길이가 비슷한 농어가 없으면 어떻게 될까?\n",
        "\n",
        "가지고 있는 농어 데이터는 길이 8.4 cm ~ 44.0 cm밖에 없는데\n",
        "\n",
        "길이 100 cm짜리 농어가 들어오면 어떻게 될까?\n",
        "\n",
        "100 cm와 비슷한 데이터는 없음\n",
        "\n",
        "따라서 가장 긴 농어의 데이터를 참고할 수밖에 없고\n",
        "\n",
        "당연히 큰 오차가 발생함\n",
        "\n",
        "----\n",
        "\n",
        "해결방법: 길이와 농어의 관계를 유추할 수 있는 그래프를 찾아내자.\n",
        "\n",
        "sklearn.linear_model.LinearRegression 이용\n",
        "\n",
        "\n",
        "---\n",
        "  * **k-최근접 이웃 분류: 비슷한 것들끼리는 비슷한 특성값을 가질 것이다.**\n",
        "    * 예: 도미끼리는 특성값(길이, 무게)이 비슷할 것이다.\n",
        "    * 분류이므로 결과값은 이산값임\n",
        "  * **k-최근접 이웃 회귀: 비슷한 것들끼리는 특성값의 관계도 비슷할 것이다.**\n",
        "    * 예: 길이가 비슷한 농어들은 무게도 비슷할 것이다.\n",
        "    * 회귀이므로 결과값은 연속값임\n",
        "  * **선형 회귀: 데이터 전체를 잘 표현할 수 있는 하나의 수식을 찾을 수 있을 것이다.**\n",
        "    * 예: 농어의 무게는 길이의 3차 다항식으로 표현 가능할 것이다.\n",
        "---"
      ],
      "metadata": {
        "id": "n7-99-gjzIUD"
      }
    },
    {
      "cell_type": "code",
      "source": [
        "# 값이 엉뚱하게 나옴을 확인\n",
        "\n",
        "train_input, test_input, train_target, test_target = train_test_split(\n",
        "    perch_length, perch_weight, random_state=42)\n",
        "\n",
        "train_input = train_input.reshape(-1, 1)\n",
        "test_input = test_input.reshape(-1, 1)\n",
        "\n",
        "knr = KNeighborsRegressor(n_neighbors=3)\n",
        "knr.fit(train_input, train_target)\n",
        "\n",
        "new_fish1_length = 50\n",
        "new_fish2_length = 100\n",
        "\n",
        "distances1, indexes1 = knr.kneighbors([[new_fish1_length]])\n",
        "distances2, indexes2 = knr.kneighbors([[new_fish2_length]])\n",
        "print(indexes1)\n",
        "print(indexes2)\n",
        "\n",
        "plt.scatter(train_input, train_target, label='perch, train')\n",
        "plt.scatter(train_input[indexes1], train_target[indexes1], marker='D', label='perch, nearest to new1')\n",
        "plt.scatter(train_input[indexes2], train_target[indexes2], marker='D', label='perch, nearest to new2')\n",
        "plt.scatter(new_fish1_length, knr.predict([[new_fish1_length]]), marker='^', label='new perch #1')\n",
        "plt.scatter(new_fish2_length, knr.predict([[new_fish2_length]]), marker='^', label='new perch #2')\n",
        "plt.xlabel('length')\n",
        "plt.ylabel('weight')\n",
        "plt.legend()\n",
        "plt.show()"
      ],
      "metadata": {
        "colab": {
          "base_uri": "https://localhost:8080/",
          "height": 317
        },
        "id": "rR8vFWks1Ls_",
        "outputId": "36c689d3-deb5-4a64-b6a2-441c7e847eef"
      },
      "execution_count": 12,
      "outputs": [
        {
          "output_type": "stream",
          "name": "stdout",
          "text": [
            "[[34  8 14]]\n",
            "[[34  8 14]]\n"
          ]
        },
        {
          "output_type": "display_data",
          "data": {
            "text/plain": [
              "<Figure size 432x288 with 1 Axes>"
            ],
            "image/png": "[encoded data removed]"
          },
          "metadata": {
            "needs_background": "light"
          }
        }
      ]
    },
    {
      "cell_type": "markdown",
      "source": [
        "---\n",
        "\n",
        "sklearn.linear_model.LinearRegression 사용법은 앞에 나왔던 것들과 똑같음\n",
        "\n",
        "LinearRegression.fit(train_input, train_target)\n",
        "\n",
        "주어진 데이터를 least square로 fitting함\n",
        "\n",
        "이걸 실행하면 객체 안에 데이터도 들어가고 계수도 생성됨\n",
        "\n",
        "fitting 하려는 차수에 따라 train_input을 다르게 만들어줘야 함\n",
        "\n",
        "1차일 경우: train_input이 그대로 들어감\n",
        "\n",
        "2차일 경우: (train_input**2, train_input)이 들어감\n",
        "\n",
        "\n",
        "---\n"
      ],
      "metadata": {
        "id": "w6PZYKFO3vCD"
      }
    },
    {
      "cell_type": "code",
      "source": [
        "from sklearn.linear_model import LinearRegression\n",
        "\n",
        "# 1차\n",
        "lr1 = LinearRegression()\n",
        "lr1.fit(train_input, train_target)\n",
        "\n",
        "print(f'1차 회귀 모델: {lr1.coef_[0]:.3f}x + {lr1.intercept_:.3f}')\n",
        "# print(f'길이 50cm 농어의 예측 무게: {lr.predict([[50]])}g')\n",
        "# print(f'길이 100cm 농어의 예측 무게: {lr.predict([[100]])}g')\n",
        "print(f'\\t훈련 세트 점수:   {lr1.score(train_input, train_target)}')\n",
        "print(f'\\t테스트 세트 점수: {lr1.score(test_input, test_target)}')\n",
        "\n",
        "# 2차\n",
        "train_poly2 = np.column_stack((train_input**2, train_input))\n",
        "test_poly2 = np.column_stack((test_input**2, test_input))\n",
        "\n",
        "lr2 = LinearRegression()\n",
        "lr2.fit(train_poly2, train_target)\n",
        "\n",
        "print(f'2차 회귀 모델: {lr2.coef_[0]:.3f}x^2 + {lr2.coef_[1]:.3f}x + {lr2.intercept_:.3f}')\n",
        "print(f'\\t훈련 세트 점수:   {lr2.score(train_poly2, train_target)}')\n",
        "print(f'\\t테스트 세트 점수: {lr2.score(test_poly2, test_target)}')\n",
        "\n",
        "# 3차\n",
        "train_poly3 = np.column_stack((train_input**3, train_input**2, train_input))\n",
        "test_poly3 = np.column_stack((test_input**3, test_input**2, test_input))\n",
        "\n",
        "lr3 = LinearRegression()\n",
        "lr3.fit(train_poly3, train_target)\n",
        "\n",
        "print(f'3차 회귀 모델: {lr3.coef_[0]:.3f}x^3 + {lr3.coef_[1]:.3f}x^2 + {lr3.coef_[2]:.3f}x + {lr3.intercept_:.3f}')\n",
        "print(f'\\t훈련 세트 점수:   {lr3.score(train_poly3, train_target)}')\n",
        "print(f'\\t테스트 세트 점수: {lr3.score(test_poly3, test_target)}')\n"
      ],
      "metadata": {
        "colab": {
          "base_uri": "https://localhost:8080/"
        },
        "id": "tkU4hVod4KvW",
        "outputId": "4f1b6ca3-9b84-4f28-8cdb-53bfd11d2ec4"
      },
      "execution_count": 13,
      "outputs": [
        {
          "output_type": "stream",
          "name": "stdout",
          "text": [
            "1차 회귀 모델: 39.017x + -709.019\n",
            "\t훈련 세트 점수:   0.939846333997604\n",
            "\t테스트 세트 점수: 0.8247503123313558\n",
            "2차 회귀 모델: 1.014x^2 + -21.558x + 116.050\n",
            "\t훈련 세트 점수:   0.9706807451768623\n",
            "\t테스트 세트 점수: 0.9775935108325122\n",
            "3차 회귀 모델: -0.029x^3 + 3.548x^2 + -90.593x + 709.948\n",
            "\t훈련 세트 점수:   0.9729178478354533\n",
            "\t테스트 세트 점수: 0.9588363727422974\n"
          ]
        }
      ]
    },
    {
      "cell_type": "markdown",
      "source": [
        "---\n",
        "\n",
        "각 차수에 대한 결과를 그려서 비교해보자.\n",
        "\n",
        "---"
      ],
      "metadata": {
        "id": "unyGs77oCrEL"
      }
    },
    {
      "cell_type": "code",
      "source": [
        "point = np.arange(15, 50).reshape(-1, 1)\n",
        "\n",
        "plt.scatter(train_input, train_target, label='training data')\n",
        "\n",
        "plt.plot(point, lr1.predict(point), label='fit-1st order')\n",
        "plt.plot(point, lr2.predict(np.column_stack((point**2, point))), label='fit-2nd order')\n",
        "plt.plot(point, lr3.predict(np.column_stack((point**3, point**2, point))), label='fit-3rd order')\n",
        "plt.xlabel('length')\n",
        "plt.ylabel('weight')\n",
        "plt.legend()\n",
        "plt.show()"
      ],
      "metadata": {
        "colab": {
          "base_uri": "https://localhost:8080/",
          "height": 279
        },
        "id": "Q7TtcbeUCwES",
        "outputId": "5a2697c9-2f69-4178-bc83-800e45551ba5"
      },
      "execution_count": 14,
      "outputs": [
        {
          "output_type": "display_data",
          "data": {
            "text/plain": [
              "<Figure size 432x288 with 1 Axes>"
            ],
            "image/png": "[encoded data removed]"
          },
          "metadata": {
            "needs_background": "light"
          }
        }
      ]
    },
    {
      "cell_type": "code",
      "source": [
        "import numpy as np\n",
        "import random\n",
        "x = np.arange(0, 1.1, .1)\n",
        "y = x ** 2 + np.random.randn(len(x))/100\n",
        "\n",
        "import matplotlib.pyplot as plt\n",
        "plt.plot(x, y)\n",
        "plt.show()\n",
        "\n",
        "p = np.polyfit(x, y, 1)\n",
        "print(p)\n",
        "x = x.reshape(-1, 1)\n",
        "y = y.reshape(-1, 1)\n",
        "\n",
        "from sklearn.linear_model import LinearRegression\n",
        "lr = LinearRegression()\n",
        "\n",
        "#train_data = np.column_stack((x ** 2, x))\n",
        "train_data = x\n",
        "train_target = y\n",
        "lr.fit(train_data, train_target)\n",
        "\n",
        "lr.coef_, lr.intercept_"
      ],
      "metadata": {
        "colab": {
          "base_uri": "https://localhost:8080/",
          "height": 303
        },
        "id": "cvuKRPqJlPk0",
        "outputId": "9d374498-f7af-4821-9aef-a833f308aa69"
      },
      "execution_count": 15,
      "outputs": [
        {
          "output_type": "display_data",
          "data": {
            "text/plain": [
              "<Figure size 432x288 with 1 Axes>"
            ],
            "image/png": "[encoded data removed]"
          },
          "metadata": {
            "needs_background": "light"
          }
        },
        {
          "output_type": "stream",
          "name": "stdout",
          "text": [
            "[ 0.99981504 -0.1481709 ]\n"
          ]
        },
        {
          "output_type": "execute_result",
          "data": {
            "text/plain": [
              "(array([[0.99981504]]), array([-0.1481709]))"
            ]
          },
          "metadata": {},
          "execution_count": 15
        }
      ]
    },
    {
      "cell_type": "markdown",
      "source": [
        "---\n",
        "\n",
        "## 3-3. 특성공학과 규제\n",
        "\n",
        "이왕 하는거 농어의 높이, 두께도 사용하고 싶다.\n",
        "\n",
        "다변수 다항회귀(aka 다중회귀multiple regression)를 해보자는 것\n",
        "\n",
        "https://bit.ly/perch_csv_data 에는 [길이, 높이, 두께] 순서로 데이터가 들어있음\n",
        "\n",
        "---"
      ],
      "metadata": {
        "id": "Et8jjqpnGe5x"
      }
    },
    {
      "cell_type": "code",
      "source": [
        "import pandas as pd\n",
        "\n",
        "df = pd.read_csv('https://bit.ly/perch_csv_data')\n",
        "perch_full = df.to_numpy()\n",
        "\n",
        "train_input, test_input, train_target, test_target = train_test_split(\n",
        "    perch_full, perch_weight, random_state=42)"
      ],
      "metadata": {
        "id": "p-oLQI2XGd4_"
      },
      "execution_count": 16,
      "outputs": []
    },
    {
      "cell_type": "markdown",
      "source": [
        "---\n",
        "\n",
        "sklearn.preprocessing.PolynomialFeatures를 사용하면\n",
        "\n",
        "입력 데이터로 만들 수 있는 모든 단항식의 값을 계산할 수 있다.\n",
        "\n",
        "예를 들어 변수 x0, x1, x2를 이용하는 3변수 2차 fitting이라면\n",
        "\n",
        "[x0, x1, x2, x0^2, x0 * x1, x0 * x2, x1^2, x1 * x2, x2^2]\n",
        "\n",
        "이렇게 만들어진다.\n",
        "\n",
        "변수가 길이, 높이, 두께, 타겟이 무게라면\n",
        "\n",
        "이제 다항 회귀로 아래 모델을 만들겠다는 뜻이다.\n",
        "\n",
        "무게 = c1 x 길이 + c2 x 높이 + c3 x 두께 + c11 x 길이^2 + c12 x 길이 x 높이 + c13 x 길이 x 두께 + c22 x 높이^2 + c23 x 높이 x 두께 + c33 x 두께^2\n",
        "\n",
        "이제 LinearRegression이 할 일은\n",
        "\n",
        "train_target과의 MSE가 최소가 되도록 각 column에 곱해줄 계수를 찾는 것이다.\n",
        "\n",
        "다변수 최소자승법을 생각해보면 됨\n",
        "\n",
        "---\n",
        "\n",
        "참고로 사이킷런 모델은 자동으로 상수항을 무시해주는데\n",
        "\n",
        "그냥 책에 나온 것처럼 명시적으로 include_bias=False로 써주겠음\n",
        "\n",
        "PolynomialFeatures 같은걸 변환기transformer라고 부름\n",
        "\n",
        "get_feature_names_out() 메서드를 사용하면 실제로 만들어지는 단항식을 볼 수 있음\n",
        "\n",
        "---\n"
      ],
      "metadata": {
        "id": "GrU5H2Bo3E61"
      }
    },
    {
      "cell_type": "code",
      "source": [
        "# PolynomialFeatures 예시\n",
        "\n",
        "from sklearn.preprocessing import PolynomialFeatures\n",
        "\n",
        "poly = PolynomialFeatures(include_bias=False)\n",
        "poly.fit([[2, 3]])\n",
        "print(poly.transform([[2, 3]]))\n",
        "# [2, 3, 2*2, 2*3, 3*3] 이런 순서로 만들어짐\n",
        "print(poly.get_feature_names_out())\n",
        "\n",
        "# 차수의 기본값은 2이며, degree 파라미터로 바꿀 수 있음\n",
        "poly.degree = 3\n",
        "poly.fit([[2, 3]])\n",
        "print(poly.transform([[2, 3]]))\n",
        "# [2, 3, 2*2, 2*3, 3*3, 2*2*2, 2*2*3, 2*3*3, 3*3*3]\n",
        "print(poly.get_feature_names_out())"
      ],
      "metadata": {
        "colab": {
          "base_uri": "https://localhost:8080/"
        },
        "id": "HBsOztRd70Uf",
        "outputId": "5be73392-2e14-4b50-e0a5-925c88fc2547"
      },
      "execution_count": 17,
      "outputs": [
        {
          "output_type": "stream",
          "name": "stdout",
          "text": [
            "[[2. 3. 4. 6. 9.]]\n",
            "['x0' 'x1' 'x0^2' 'x0 x1' 'x1^2']\n",
            "[[ 2.  3.  4.  6.  9.  8. 12. 18. 27.]]\n",
            "['x0' 'x1' 'x0^2' 'x0 x1' 'x1^2' 'x0^3' 'x0^2 x1' 'x0 x1^2' 'x1^3']\n"
          ]
        }
      ]
    },
    {
      "cell_type": "markdown",
      "source": [
        "---\n",
        "\n",
        "n변수 k차 fitting을 한다면 poly.transform으로 만들어지는 배열의 크기는 얼마일까?\n",
        "\n",
        "n+1개의 변수 중 중복 허용하여 k개를 고르는 것이므로 중복조합으로 생각할 수 있다.\n",
        "\n",
        "n이 아니라 n+1인 이유는 상수항 때문\n",
        "\n",
        "그리고 최종 상수항은 제외해야 하므로 마지막에 -1을 빼준다.\n",
        "\n",
        "따라서 n변수 k차 fitting을 위한 poly.transform의 결과 크기는\n",
        "\n",
        "(N_samples, (n+1)_H_k)가 된다.\n",
        "\n",
        "예: 3변수 2차 -> 4H2 - 1 = 9\n",
        "예: 2변수 2차 -> 3H2 - 1 = 5\n",
        "예: 2변수 3차 -> 3H3 - 1 = 9\n",
        "\n",
        "---\n",
        "\n",
        "이제 실제로 농어의 길이, 높이, 두께를 모두 이용해서 회귀모델을 만들어보겠음\n",
        "\n",
        "---"
      ],
      "metadata": {
        "id": "k9-hlFC7-X-7"
      }
    },
    {
      "cell_type": "code",
      "source": [
        "poly = PolynomialFeatures(include_bias=False)\n",
        "poly.fit(train_input)\n",
        "train_poly = poly.transform(train_input)\n",
        "test_poly = poly.transform(test_input)\n",
        "\n",
        "lr = LinearRegression()\n",
        "lr.fit(train_poly, train_target)\n",
        "print(f'훈련 세트 점수: {lr.score(train_poly, train_target):.3f}')\n",
        "print(f'테스트 세트 점수: {lr.score(test_poly, test_target):.3f}')"
      ],
      "metadata": {
        "colab": {
          "base_uri": "https://localhost:8080/"
        },
        "id": "y9wDk4D33aBz",
        "outputId": "842762e1-4060-4ae5-87bb-4a215c376781"
      },
      "execution_count": 18,
      "outputs": [
        {
          "output_type": "stream",
          "name": "stdout",
          "text": [
            "훈련 세트 점수: 0.990\n",
            "테스트 세트 점수: 0.971\n"
          ]
        }
      ]
    },
    {
      "cell_type": "markdown",
      "source": [
        "---\n",
        "\n",
        "여기서 다항식의 차수를 높이면 과적합이 되기 쉬움\n",
        "\n",
        "과적합의 대표적인 사례 중 하나임\n",
        "\n",
        "아래 영상 8분 23초부터 나오는 그래프에서\n",
        "\n",
        "9차 fitting이 overfitting을 잘 보여줌\n",
        "\n",
        "https://www.youtube.com/watch?v=c8vDSWoJHHA\n",
        "\n",
        "\n",
        "---"
      ],
      "metadata": {
        "id": "YE2Ullb9FjW_"
      }
    },
    {
      "cell_type": "code",
      "source": [
        "poly = PolynomialFeatures(degree=5, include_bias=False)\n",
        "poly.fit(train_input)\n",
        "train_poly = poly.transform(train_input)\n",
        "test_poly = poly.transform(test_input)\n",
        "\n",
        "lr = LinearRegression()\n",
        "lr.fit(train_poly, train_target)\n",
        "print(f'훈련 세트 점수: {lr.score(train_poly, train_target):.3f}')\n",
        "print(f'테스트 세트 점수: {lr.score(test_poly, test_target):.3f}')"
      ],
      "metadata": {
        "colab": {
          "base_uri": "https://localhost:8080/"
        },
        "id": "i9YEtTjxGQZe",
        "outputId": "265c5924-caaf-4db8-e9f7-db406653af51"
      },
      "execution_count": 19,
      "outputs": [
        {
          "output_type": "stream",
          "name": "stdout",
          "text": [
            "훈련 세트 점수: 1.000\n",
            "테스트 세트 점수: -144.406\n"
          ]
        }
      ]
    },
    {
      "cell_type": "markdown",
      "source": [
        "---\n",
        "\n",
        "규제regularization란 과대적합을 방지하기 위해\n",
        "\n",
        "특성에 곱해지는 계수의 크기를 제한하는 것을 말한다.\n",
        "\n",
        "![](https://miro.medium.com/max/1400/1*zQu4OjRXu73gVuqDygNRag.png)\n",
        "\n",
        "출처: https://iamvaibhavsaini.medium.com/what-is-regularization-and-why-regularization-reduces-overfitting-e938282c32a8\n",
        "\n",
        "\n",
        "위 그림을 보면 가운데 부드러운 곡선이 데이터를 가장 잘 표현한다고 볼 수 있다.\n",
        "\n",
        "회귀 결과와의 차이는 자연스러운 오차라고 봐야 옳을 것이다.\n",
        "\n",
        "예를 들어 길이, 높이, 두께가 같은 농어 100마리의 무게가 \n",
        "\n",
        "한치의 오차도 없이 정확히 같지는 않을 것이다.\n",
        "\n",
        "실제 무게가 다를 수도 있지만, 측정의 오차도 발생할 수 있다.\n",
        "\n",
        "오른쪽은 대표적인 과대적합이다.\n",
        "\n",
        "오차를 오차로 보지 않고 실제 데이터의 특성이라고 본 것이다.\n",
        "\n",
        "훈련 세트에 억지로 맞춘 것이므로 당연히 훈련 세트의 점수는 높게 나온다.\n",
        "\n",
        "하지만 (대부분의 경우) 데이터가 진짜로 저렇게 복잡한 모양은 아닐 것이므로\n",
        "\n",
        "새로운 데이터가 들어오면 점수가 낮아질 가능성이 높다.\n",
        "\n",
        "---\n",
        "\n",
        "규제는 두 가지 방법이 있다.\n",
        "\n",
        "릿지ridge 회귀는 계수의 L2 norm이 특정 값 이하가 되도록 제한한다.\n",
        "\n",
        "라쏘lasso 회귀는 계수의 L1 norm이 특정 값 이하가 되도록 제한한다.\n",
        "\n",
        "자세한 내용은 아래 영상을 보자.\n",
        "\n",
        "https://www.youtube.com/watch?v=MSddyk7Hsxc\n",
        "\n",
        "---\n",
        "\n",
        "계수는 특성값의 스케일에도 영향을 받을 것이다.\n",
        "\n",
        "예를 들어 농어의 길이가 최대 100 cm인데 두께는 최대 2 cm밖에 되지 않는다면\n",
        "\n",
        "두 특성값에 곱해지는 계수도 스케일이 다를 것이고\n",
        "\n",
        "공정하게 규제되지 않을 것이다.\n",
        "\n",
        "이를 위해 사이킷런의 StandardScaler 클래스가 준비되어 있으니 사용하도록 하자.\n",
        "\n",
        "---"
      ],
      "metadata": {
        "id": "fuRpaphJG4WZ"
      }
    },
    {
      "cell_type": "code",
      "source": [
        "from sklearn.preprocessing import StandardScaler\n",
        "\n",
        "ss = StandardScaler()\n",
        "ss.fit(train_poly)\n",
        "train_scaled = ss.transform(train_poly) # 표준점수화 된 훈련 세트\n",
        "test_scaled = ss.transform(test_poly) # 표준점수화 된 테스트 세트"
      ],
      "metadata": {
        "id": "64xqG6hZOt1j"
      },
      "execution_count": 20,
      "outputs": []
    },
    {
      "cell_type": "markdown",
      "source": [
        "---\n",
        "\n",
        "릿지 회귀는 sklearn.linear_model.Ridge 클래스를 사용한다.\n",
        "\n",
        "---"
      ],
      "metadata": {
        "id": "LsOauROpPZJ0"
      }
    },
    {
      "cell_type": "code",
      "source": [
        "from sklearn.linear_model import Ridge\n",
        "\n",
        "ridge = Ridge()\n",
        "ridge.fit(train_scaled, train_target)\n",
        "print(f'훈련 세트 점수: {ridge.score(train_scaled, train_target):.3f}')\n",
        "print(f'테스트 세트 점수: {ridge.score(test_scaled, test_target):.3f}')"
      ],
      "metadata": {
        "colab": {
          "base_uri": "https://localhost:8080/"
        },
        "id": "jeKN4TIwPd0f",
        "outputId": "a08e0b2d-039d-403f-ec5e-e2e1e38679d4"
      },
      "execution_count": 21,
      "outputs": [
        {
          "output_type": "stream",
          "name": "stdout",
          "text": [
            "훈련 세트 점수: 0.990\n",
            "테스트 세트 점수: 0.979\n"
          ]
        }
      ]
    },
    {
      "cell_type": "markdown",
      "source": [
        "---\n",
        "\n",
        "규제의 강도를 조절할 수 있다.\n",
        "\n",
        "모델 객체의 alpha 값이 규제의 강도를 조절하는 파라미터이다.\n",
        "\n",
        "공식 페이지를 보면, 릿지 회귀는 아래 함수를 최소화하는 계수를 찾는다.\n",
        "\n",
        "* ||y - Xw||^2_2 + alpha * ||w||^2_2\n",
        "* https://scikit-learn.org/stable/modules/generated/sklearn.linear_model.Ridge.html\n",
        "\n",
        "따라서 alpha가 1이면 규제 강도가 세지고 계수 값이 저 많이 제한된다.\n",
        "\n",
        "alpha가 0이면 그냥 선형 회귀랑 똑같아진다.\n",
        "\n",
        "alpha 값은 모델이 학습해주지 못하고 우리가 직접 정해야 한다.\n",
        "\n",
        "이렇게 사람이 직접 설정해야 하는 값을 하이퍼파라미터hyperparameter라고 부른다.\n",
        "\n",
        "반대로 선형 회귀에서 모델이 찾은 coef_, intercept_ 등은 모델 파라미터model parameter라고 부른다.\n",
        "\n",
        "---\n",
        "\n",
        "alpha 값을 바꿔가면서 훈련/테스트 세트의 점수를 확인해보고, 적절한 alpha 값을 찾아보자.\n",
        "\n",
        "---"
      ],
      "metadata": {
        "id": "HF5ZwvdLchoR"
      }
    },
    {
      "cell_type": "code",
      "source": [
        "alpha_list = np.power(10., range(-3, 3))\n",
        "train_score = []\n",
        "test_score = []\n",
        "\n",
        "for alpha in alpha_list:\n",
        "    ridge = Ridge(alpha=alpha)\n",
        "    ridge.fit(train_scaled, train_target)\n",
        "    train_score.append(ridge.score(train_scaled, train_target))\n",
        "    test_score.append(ridge.score(test_scaled, test_target))\n",
        "\n",
        "plt.plot(alpha_list, train_score, label='training data')\n",
        "plt.plot(alpha_list, test_score, label='test data')\n",
        "plt.xlabel('alpha')\n",
        "plt.ylabel('$R^2$')\n",
        "plt.legend()\n",
        "plt.gca().set_xscale('log')\n",
        "plt.show()\n",
        "\n"
      ],
      "metadata": {
        "colab": {
          "base_uri": "https://localhost:8080/",
          "height": 283
        },
        "id": "Od38LkR6fG3F",
        "outputId": "6cb36fe6-f2e5-462b-db12-61c1fe72289c"
      },
      "execution_count": 22,
      "outputs": [
        {
          "output_type": "display_data",
          "data": {
            "text/plain": [
              "<Figure size 432x288 with 1 Axes>"
            ],
            "image/png": "[encoded data removed]"
          },
          "metadata": {
            "needs_background": "light"
          }
        }
      ]
    }
  ]
}