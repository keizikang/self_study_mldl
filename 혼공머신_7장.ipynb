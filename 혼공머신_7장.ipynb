{
  "nbformat": 4,
  "nbformat_minor": 0,
  "metadata": {
    "colab": {
      "name": "혼공머신 7장.ipynb",
      "provenance": [],
      "collapsed_sections": [],
      "authorship_tag": "ABX9TyPqYC806CPSYmHJSpGwwwvT",
      "include_colab_link": true
    },
    "kernelspec": {
      "name": "python3",
      "display_name": "Python 3"
    },
    "language_info": {
      "name": "python"
    },
    "accelerator": "GPU",
    "gpuClass": "standard"
  },
  "cells": [
    {
      "cell_type": "markdown",
      "metadata": {
        "id": "view-in-github",
        "colab_type": "text"
      },
      "source": [
        "<a href=\"https://colab.research.google.com/github/keizikang/self_study_mldl/blob/main/%ED%98%BC%EA%B3%B5%EB%A8%B8%EC%8B%A0_7%EC%9E%A5.ipynb\" target=\"_parent\"><img src=\"https://colab.research.google.com/assets/colab-badge.svg\" alt=\"Open In Colab\"/></a>"
      ]
    },
    {
      "cell_type": "markdown",
      "source": [
        "---\n",
        "# 7. 딥러닝\n",
        "---"
      ],
      "metadata": {
        "id": "UQ0Fdj4yFqR3"
      }
    },
    {
      "cell_type": "markdown",
      "source": [
        "---\n",
        "\n",
        "## 7.1 인공 신경망\n",
        "\n",
        "---"
      ],
      "metadata": {
        "id": "Yv_DJb2_FusX"
      }
    },
    {
      "cell_type": "code",
      "source": [
        "# 패션 mnist 데이터 불러옴\n",
        "from tensorflow import keras\n",
        "(train_input, train_target), (test_input, test_target) = \\\n",
        "keras.datasets.fashion_mnist.load_data()"
      ],
      "metadata": {
        "colab": {
          "base_uri": "https://localhost:8080/"
        },
        "id": "0XP1-UyTFtrR",
        "outputId": "5029cd6d-e36c-431c-db4e-059a8e4eed06"
      },
      "execution_count": 1,
      "outputs": [
        {
          "output_type": "stream",
          "name": "stdout",
          "text": [
            "Downloading data from https://storage.googleapis.com/tensorflow/tf-keras-datasets/train-labels-idx1-ubyte.gz\n",
            "32768/29515 [=================================] - 0s 0us/step\n",
            "40960/29515 [=========================================] - 0s 0us/step\n",
            "Downloading data from https://storage.googleapis.com/tensorflow/tf-keras-datasets/train-images-idx3-ubyte.gz\n",
            "26427392/26421880 [==============================] - 0s 0us/step\n",
            "26435584/26421880 [==============================] - 0s 0us/step\n",
            "Downloading data from https://storage.googleapis.com/tensorflow/tf-keras-datasets/t10k-labels-idx1-ubyte.gz\n",
            "16384/5148 [===============================================================================================] - 0s 0us/step\n",
            "Downloading data from https://storage.googleapis.com/tensorflow/tf-keras-datasets/t10k-images-idx3-ubyte.gz\n",
            "4423680/4422102 [==============================] - 0s 0us/step\n",
            "4431872/4422102 [==============================] - 0s 0us/step\n"
          ]
        }
      ]
    },
    {
      "cell_type": "code",
      "source": [
        "# 데이터를 이미지로 확인\n",
        "import matplotlib.pyplot as plt\n",
        "fig, axs = plt.subplots(1, 10, figsize=(10, 10))\n",
        "for i in range(10):\n",
        "  axs[i].imshow(train_input[i], cmap='gray_r')\n",
        "  axs[i].axis('off')\n",
        "plt.show()"
      ],
      "metadata": {
        "colab": {
          "base_uri": "https://localhost:8080/",
          "height": 78
        },
        "id": "kbGdsVwBGUH0",
        "outputId": "66574711-e756-4334-ba99-be46b7584e4b"
      },
      "execution_count": 2,
      "outputs": [
        {
          "output_type": "display_data",
          "data": {
            "text/plain": [
              "<Figure size 720x720 with 10 Axes>"
            ],
            "image/png": "[encoded data removed]"
          },
          "metadata": {
            "needs_background": "light"
          }
        }
      ]
    },
    {
      "cell_type": "code",
      "source": [
        "# 픽셀값을 [0, 1] 범위로 정규화\n",
        "train_scaled = train_input / 255.0\n",
        "train_scaled = train_scaled.reshape(-1, 28*28)\n",
        "\n",
        "import numpy as np\n",
        "\n",
        "# SGDClassifier + cross_validate\n",
        "from sklearn.model_selection import cross_validate\n",
        "from sklearn.linear_model import SGDClassifier\n",
        "sc = SGDClassifier(loss='log', max_iter=5, random_state=42)\n",
        "scores = cross_validate(sc, train_scaled, train_target, n_jobs=-1)\n",
        "print(np.mean(scores['test_score']))"
      ],
      "metadata": {
        "colab": {
          "base_uri": "https://localhost:8080/"
        },
        "id": "-JvWQ5k7Lz6f",
        "outputId": "96358d52-4bfb-4eec-eb9a-0b7ea5da92b9"
      },
      "execution_count": 3,
      "outputs": [
        {
          "output_type": "stream",
          "name": "stdout",
          "text": [
            "0.8195666666666668\n"
          ]
        }
      ]
    },
    {
      "cell_type": "code",
      "source": [
        "from sklearn.model_selection import train_test_split\n",
        "\n",
        "# 훈련/검증 세트 나누기\n",
        "# train_scaled가 덮어써지므로 반복해서 실행하지 말 것\n",
        "train_scaled, val_scaled, train_target, val_target = train_test_split(\n",
        "    train_scaled, train_target, test_size=0.2, random_state=42)"
      ],
      "metadata": {
        "id": "a6uHkBPTNWal"
      },
      "execution_count": 4,
      "outputs": []
    },
    {
      "cell_type": "code",
      "source": [
        "# 밀집층 객체 만들기\n",
        "dense = keras.layers.Dense(10, activation='softmax', input_shape=(784,))\n",
        "\n",
        "# 신경망 모델 만들기\n",
        "model = keras.Sequential(dense)\n",
        "\n",
        "# 모델 손실함수와 metrics 설정\n",
        "model.compile(loss='sparse_categorical_crossentropy', metrics='accuracy')\n",
        "\n",
        "# 모델 훈련\n",
        "model.fit(train_scaled, train_target, epochs=5)"
      ],
      "metadata": {
        "colab": {
          "base_uri": "https://localhost:8080/"
        },
        "id": "ZX-66_A0pXmf",
        "outputId": "a5541f55-de8a-47dc-ab1b-c6e3eedb4aea"
      },
      "execution_count": 5,
      "outputs": [
        {
          "output_type": "stream",
          "name": "stdout",
          "text": [
            "Epoch 1/5\n",
            "1500/1500 [==============================] - 8s 3ms/step - loss: 0.6092 - accuracy: 0.7921\n",
            "Epoch 2/5\n",
            "1500/1500 [==============================] - 3s 2ms/step - loss: 0.4782 - accuracy: 0.8413\n",
            "Epoch 3/5\n",
            "1500/1500 [==============================] - 3s 2ms/step - loss: 0.4553 - accuracy: 0.8482\n",
            "Epoch 4/5\n",
            "1500/1500 [==============================] - 4s 2ms/step - loss: 0.4441 - accuracy: 0.8537\n",
            "Epoch 5/5\n",
            "1500/1500 [==============================] - 3s 2ms/step - loss: 0.4363 - accuracy: 0.8547\n"
          ]
        },
        {
          "output_type": "execute_result",
          "data": {
            "text/plain": [
              "<keras.callbacks.History at 0x7fc480384ad0>"
            ]
          },
          "metadata": {},
          "execution_count": 5
        }
      ]
    },
    {
      "cell_type": "code",
      "source": [
        "# 모델 평가\n",
        "model.evaluate(val_scaled, val_target)"
      ],
      "metadata": {
        "colab": {
          "base_uri": "https://localhost:8080/"
        },
        "id": "Q7SzJ3XJou0Z",
        "outputId": "023d0b9a-4d8d-4306-9b83-f0bd917b9325"
      },
      "execution_count": 6,
      "outputs": [
        {
          "output_type": "stream",
          "name": "stdout",
          "text": [
            "375/375 [==============================] - 1s 2ms/step - loss: 0.4524 - accuracy: 0.8512\n"
          ]
        },
        {
          "output_type": "execute_result",
          "data": {
            "text/plain": [
              "[0.45236095786094666, 0.8512499928474426]"
            ]
          },
          "metadata": {},
          "execution_count": 6
        }
      ]
    },
    {
      "cell_type": "code",
      "source": [
        "model.summary()"
      ],
      "metadata": {
        "colab": {
          "base_uri": "https://localhost:8080/"
        },
        "id": "ys6HdKg2w9WE",
        "outputId": "09354a5f-e1b5-472c-e832-9bca68b2f856"
      },
      "execution_count": 7,
      "outputs": [
        {
          "output_type": "stream",
          "name": "stdout",
          "text": [
            "Model: \"sequential\"\n",
            "_________________________________________________________________\n",
            " Layer (type)                Output Shape              Param #   \n",
            "=================================================================\n",
            " dense (Dense)               (None, 10)                7850      \n",
            "                                                                 \n",
            "=================================================================\n",
            "Total params: 7,850\n",
            "Trainable params: 7,850\n",
            "Non-trainable params: 0\n",
            "_________________________________________________________________\n"
          ]
        }
      ]
    },
    {
      "cell_type": "markdown",
      "source": [
        "---\n",
        "\n",
        "## 7.2 심층 신경망\n",
        "\n",
        "---"
      ],
      "metadata": {
        "id": "sAf_gLXdt_CX"
      }
    },
    {
      "cell_type": "markdown",
      "source": [
        "---\n",
        "\n",
        "### 7.2.1 층을 생성하는 세 가지 방법\n",
        "\n",
        "---"
      ],
      "metadata": {
        "id": "wQqR3HK987Rk"
      }
    },
    {
      "cell_type": "code",
      "source": [
        "# 패션 mnist 데이터 불러와서 훈련/검증 세트로 나눔\n",
        "# 앞에서 train_scaled를 바꿨으므로 다시 불러와야 함\n",
        "\n",
        "from tensorflow import keras\n",
        "(train_input, train_target), (test_input, test_target) = \\\n",
        "keras.datasets.fashion_mnist.load_data()\n",
        "\n",
        "from sklearn.model_selection import train_test_split\n",
        "train_scaled = train_input / 255.0\n",
        "train_scaled = train_scaled.reshape(-1, 28*28)\n",
        "train_scaled, val_scaled, train_target, val_target = train_test_split(\n",
        "    train_scaled, train_target, test_size=0.2, random_state=42)"
      ],
      "metadata": {
        "id": "YFOjQ59Rt567"
      },
      "execution_count": 8,
      "outputs": []
    },
    {
      "cell_type": "code",
      "source": [
        "# 층을 생성하는 첫 번째 방법\n",
        "# 각 밀집층 객체를 만들고 keras.Sequential에 인자로 전달\n",
        "dense1 = keras.layers.Dense(100, activation='sigmoid', input_shape=(784,))\n",
        "dense2 = keras.layers.Dense(10, activation='softmax')\n",
        "\n",
        "# 심층 신경망 생성\n",
        "model = keras.Sequential([dense1, dense2])\n",
        "\n",
        "# 모델 요약정보 보기\n",
        "model.summary()"
      ],
      "metadata": {
        "colab": {
          "base_uri": "https://localhost:8080/"
        },
        "id": "Qf6EaoQKvow1",
        "outputId": "7d57329f-72e8-4069-da48-ad7ad8aaff78"
      },
      "execution_count": 9,
      "outputs": [
        {
          "output_type": "stream",
          "name": "stdout",
          "text": [
            "Model: \"sequential_1\"\n",
            "_________________________________________________________________\n",
            " Layer (type)                Output Shape              Param #   \n",
            "=================================================================\n",
            " dense_1 (Dense)             (None, 100)               78500     \n",
            "                                                                 \n",
            " dense_2 (Dense)             (None, 10)                1010      \n",
            "                                                                 \n",
            "=================================================================\n",
            "Total params: 79,510\n",
            "Trainable params: 79,510\n",
            "Non-trainable params: 0\n",
            "_________________________________________________________________\n"
          ]
        }
      ]
    },
    {
      "cell_type": "markdown",
      "source": [
        "---\n",
        "\n",
        "Model: 모델 이름\n",
        "\n",
        "그 아래에 층이 순서대로 출력됨\n",
        "\n",
        "은닉층과 출력층의 첫번째 차원 크기가 None인 이유?\n",
        "\n",
        "입력 데이터에 따라 미니 배치 크기가 달라지기 때문\n",
        "\n",
        "그래서 첫번째 차원을 배치 차원이라고 부름\n",
        "\n",
        "batch_size 파라미터로 설정 가능\n",
        "\n",
        "78500 = 784 * 100 + 100\n",
        "\n",
        "1010 = 100 * 10 + 10\n",
        "\n",
        "---"
      ],
      "metadata": {
        "id": "Z6pU4R5Kxh9h"
      }
    },
    {
      "cell_type": "code",
      "source": [
        "# 층을 생성하는 두 번째 방법\n",
        "# 밀집층 객체를 keras.Sequential에 입력인자로 바로 생성\n",
        "# name으로 모델과 밀집층의 이름을 설정할 수 있음\n",
        "model = keras.Sequential([\n",
        "    keras.layers.Dense(100, \n",
        "                       activation='sigmoid', \n",
        "                       input_shape=(784,), \n",
        "                       name='hidden'),\n",
        "    keras.layers.Dense(10, \n",
        "                       activation='softmax', \n",
        "                       name='output')\n",
        "], name='패션 MNIST 모델')\n",
        "model.summary()"
      ],
      "metadata": {
        "colab": {
          "base_uri": "https://localhost:8080/"
        },
        "id": "s_62EcnHxd_x",
        "outputId": "11bf1f3d-b2fa-4e1c-9e36-b0d77b6eaaf0"
      },
      "execution_count": 10,
      "outputs": [
        {
          "output_type": "stream",
          "name": "stdout",
          "text": [
            "Model: \"패션 MNIST 모델\"\n",
            "_________________________________________________________________\n",
            " Layer (type)                Output Shape              Param #   \n",
            "=================================================================\n",
            " hidden (Dense)              (None, 100)               78500     \n",
            "                                                                 \n",
            " output (Dense)              (None, 10)                1010      \n",
            "                                                                 \n",
            "=================================================================\n",
            "Total params: 79,510\n",
            "Trainable params: 79,510\n",
            "Non-trainable params: 0\n",
            "_________________________________________________________________\n"
          ]
        }
      ]
    },
    {
      "cell_type": "code",
      "source": [
        "# 층을 생성하는 세 번째 방법\n",
        "# add() 메서드를 사용\n",
        "# 층이 많을 때 편리함\n",
        "model = keras.Sequential()\n",
        "model.add(keras.layers.Dense(100, \n",
        "                             activation='sigmoid', \n",
        "                             input_shape=(784,), \n",
        "                             name='hidden'))\n",
        "model.add(keras.layers.Dense(10, \n",
        "                             activation='softmax', \n",
        "                             name='output'))\n",
        "model.summary()"
      ],
      "metadata": {
        "colab": {
          "base_uri": "https://localhost:8080/"
        },
        "id": "ksrRdLzT2yqZ",
        "outputId": "9c69079f-7154-4275-9be0-0ee0894c1395"
      },
      "execution_count": 11,
      "outputs": [
        {
          "output_type": "stream",
          "name": "stdout",
          "text": [
            "Model: \"sequential_2\"\n",
            "_________________________________________________________________\n",
            " Layer (type)                Output Shape              Param #   \n",
            "=================================================================\n",
            " hidden (Dense)              (None, 100)               78500     \n",
            "                                                                 \n",
            " output (Dense)              (None, 10)                1010      \n",
            "                                                                 \n",
            "=================================================================\n",
            "Total params: 79,510\n",
            "Trainable params: 79,510\n",
            "Non-trainable params: 0\n",
            "_________________________________________________________________\n"
          ]
        }
      ]
    },
    {
      "cell_type": "code",
      "source": [
        "# 모델 손실함수와 metrics 설정, 훈련\n",
        "model.compile(loss='sparse_categorical_crossentropy', metrics='accuracy')\n",
        "model.fit(train_scaled, train_target, epochs=5)"
      ],
      "metadata": {
        "colab": {
          "base_uri": "https://localhost:8080/"
        },
        "id": "ndxUxBVq3769",
        "outputId": "d212bf63-ad25-4038-94af-5a5a0675f8af"
      },
      "execution_count": 12,
      "outputs": [
        {
          "output_type": "stream",
          "name": "stdout",
          "text": [
            "Epoch 1/5\n",
            "1500/1500 [==============================] - 7s 4ms/step - loss: 0.5603 - accuracy: 0.8097\n",
            "Epoch 2/5\n",
            "1500/1500 [==============================] - 4s 3ms/step - loss: 0.4072 - accuracy: 0.8534\n",
            "Epoch 3/5\n",
            "1500/1500 [==============================] - 4s 3ms/step - loss: 0.3717 - accuracy: 0.8646\n",
            "Epoch 4/5\n",
            "1500/1500 [==============================] - 4s 3ms/step - loss: 0.3495 - accuracy: 0.8739\n",
            "Epoch 5/5\n",
            "1500/1500 [==============================] - 4s 3ms/step - loss: 0.3323 - accuracy: 0.8803\n"
          ]
        },
        {
          "output_type": "execute_result",
          "data": {
            "text/plain": [
              "<keras.callbacks.History at 0x7fc4800f70d0>"
            ]
          },
          "metadata": {},
          "execution_count": 12
        }
      ]
    },
    {
      "cell_type": "markdown",
      "source": [
        "---\n",
        "\n",
        "### 7.2.2 Flatten과 Relu\n",
        "\n",
        "이미지를 1차원으로 펴는 편리한 방법: Flatten\n",
        "\n",
        "Flatten도 층으로 보고 add로 더할 수 있음\n",
        "\n",
        "하지만 진짜 층은 아님\n",
        "\n",
        "아래 코드로 만든 모델은 깊이가 2임\n",
        "\n",
        "케라스 API는 입력 데이터의 전처리를 모델에 포함시키도록 설계되어 있음\n",
        "\n",
        "---\n",
        "\n",
        "은닉층의 활성화 함수는 sigmoid 말고도 relu라는게 있음\n",
        "\n",
        "이미지 처리에 좋은 성능을 낸다고 알려져 있음\n",
        "\n",
        "---"
      ],
      "metadata": {
        "id": "jHyJpa_n5vss"
      }
    },
    {
      "cell_type": "code",
      "source": [
        "model = keras.Sequential()\n",
        "model.add(keras.layers.Flatten(input_shape=(28, 28)))\n",
        "model.add(keras.layers.Dense(100, activation='relu'))\n",
        "model.add(keras.layers.Dense(10, activation='softmax'))\n",
        "model.summary()"
      ],
      "metadata": {
        "colab": {
          "base_uri": "https://localhost:8080/"
        },
        "id": "CYXwnS-M5p3x",
        "outputId": "104cdf1a-8a2c-43af-fdb0-d94168737c25"
      },
      "execution_count": 13,
      "outputs": [
        {
          "output_type": "stream",
          "name": "stdout",
          "text": [
            "Model: \"sequential_3\"\n",
            "_________________________________________________________________\n",
            " Layer (type)                Output Shape              Param #   \n",
            "=================================================================\n",
            " flatten (Flatten)           (None, 784)               0         \n",
            "                                                                 \n",
            " dense_3 (Dense)             (None, 100)               78500     \n",
            "                                                                 \n",
            " dense_4 (Dense)             (None, 10)                1010      \n",
            "                                                                 \n",
            "=================================================================\n",
            "Total params: 79,510\n",
            "Trainable params: 79,510\n",
            "Non-trainable params: 0\n",
            "_________________________________________________________________\n"
          ]
        }
      ]
    },
    {
      "cell_type": "code",
      "source": [
        "# 패션 MNIST 데이터 불러오고 훈련/검증 세트 나눔\n",
        "# 이미 입력을 Flatten 했으므로 reshape은 필요없음\n",
        "(train_input, train_target), (test_input, test_target) = \\\n",
        "keras.datasets.fashion_mnist.load_data()\n",
        "\n",
        "train_scaled = train_input / 255.0\n",
        "train_scaled, val_scaled, train_target, val_target = train_test_split(\n",
        "    train_scaled, train_target, test_size=0.2, random_state=42)\n",
        "\n",
        "# 컴파일 및 훈련\n",
        "model.compile(loss='sparse_categorical_crossentropy', \n",
        "              metrics='accuracy')\n",
        "model.fit(train_scaled, train_target, epochs=5)"
      ],
      "metadata": {
        "colab": {
          "base_uri": "https://localhost:8080/"
        },
        "id": "O4_1KkFx5Eup",
        "outputId": "0b872bb4-2f0a-4a6c-8790-80ee1101fe80"
      },
      "execution_count": 14,
      "outputs": [
        {
          "output_type": "stream",
          "name": "stdout",
          "text": [
            "Epoch 1/5\n",
            "1500/1500 [==============================] - 5s 3ms/step - loss: 0.5326 - accuracy: 0.8126\n",
            "Epoch 2/5\n",
            "1500/1500 [==============================] - 5s 4ms/step - loss: 0.3920 - accuracy: 0.8585\n",
            "Epoch 3/5\n",
            "1500/1500 [==============================] - 4s 3ms/step - loss: 0.3550 - accuracy: 0.8718\n",
            "Epoch 4/5\n",
            "1500/1500 [==============================] - 4s 3ms/step - loss: 0.3348 - accuracy: 0.8806\n",
            "Epoch 5/5\n",
            "1500/1500 [==============================] - 5s 3ms/step - loss: 0.3198 - accuracy: 0.8855\n"
          ]
        },
        {
          "output_type": "execute_result",
          "data": {
            "text/plain": [
              "<keras.callbacks.History at 0x7fc40e32fa90>"
            ]
          },
          "metadata": {},
          "execution_count": 14
        }
      ]
    },
    {
      "cell_type": "code",
      "source": [
        "# 검증 세트 평가\n",
        "model.evaluate(val_scaled, val_target)"
      ],
      "metadata": {
        "colab": {
          "base_uri": "https://localhost:8080/"
        },
        "id": "ZjJtL7keN-nj",
        "outputId": "7173bffd-82bc-471f-9cf8-f4c7f1b4b175"
      },
      "execution_count": 15,
      "outputs": [
        {
          "output_type": "stream",
          "name": "stdout",
          "text": [
            "375/375 [==============================] - 1s 2ms/step - loss: 0.3643 - accuracy: 0.8727\n"
          ]
        },
        {
          "output_type": "execute_result",
          "data": {
            "text/plain": [
              "[0.36429154872894287, 0.8727499842643738]"
            ]
          },
          "metadata": {},
          "execution_count": 15
        }
      ]
    },
    {
      "cell_type": "markdown",
      "source": [
        "---\n",
        "\n",
        "### 7.2.3 옵티마이저\n",
        "\n",
        "신경망에서 조절할 수 있는 하이퍼파라미터\n",
        "\n",
        "- 은닉층의 개수\n",
        "- 은닉층의 뉴런 개수\n",
        "- 은닉층의 활성화 함수\n",
        "- 층의 종류 (밀집층, 합성곱 등)\n",
        "- 배치 크기 (batch_size)\n",
        "- 반복 횟수 (epochs)\n",
        "- 옵티마이저 (기본값=경사하강법(RMSprop))\n",
        "- 옵티마이저의 학습률\n",
        "\n",
        "---\n",
        "\n",
        "옵티마이저의 종류: 기본 경사 하강법, 적응적 학습률 옵티마이저가 있음\n",
        "\n",
        "* 기본 경사 하강법\n",
        "  * 모두 keras.optimizer.SGD 클래스를 사용함\n",
        "  * 모멘텀 최적화: momentum을 이용하여 이전 그레디언트를 가속도처럼 사용할 수 있음\n",
        "  * momentum의 기본값은 0\n",
        "  * momentum이 0보다 크면 모멘텀 최적화\n",
        "  * nesterov=True이면 네스테로프 최적화: 모멘텀 최적화를 2번 반복함\n",
        "\n",
        "* 적응적 학습률 옵티마이저\n",
        "  * 모델이 최적점에 가까이 갈수록 학습률을 낮춰 수렴 안정성을 높임\n",
        "  * 학습률 매개변수를 튜닝하지 않아도 됨\n",
        "  * RMSprop: keras.optimizer.RMSprop()을 compile의 optimizer로 설정\n",
        "  * Adagrad: keras.optimizer.Adagrad()를 compile의 optimizer로 설정\n",
        "  * Adam: 모멘텀 최적화와 RMSprop의 장점을 접목\n",
        "  * 위 3개는 모두 learning_rate의 기본값이 0.001임"
      ],
      "metadata": {
        "id": "Xkqc5oYA9KFT"
      }
    },
    {
      "cell_type": "code",
      "source": [
        "# Adam을 사용\n",
        "model = keras.Sequential()\n",
        "model.add(keras.layers.Flatten(input_shape=(28, 28)))\n",
        "model.add(keras.layers.Dense(100, activation='relu'))\n",
        "model.add(keras.layers.Dense(10, activation='softmax'))\n",
        "\n",
        "# 컴파일, 훈련\n",
        "model.compile(optimizer='adam', \n",
        "              loss='sparse_categorical_crossentropy', \n",
        "              metrics='accuracy')\n",
        "model.fit(train_scaled, train_target, epochs=5)"
      ],
      "metadata": {
        "colab": {
          "base_uri": "https://localhost:8080/"
        },
        "id": "P1CCJTn9LoDP",
        "outputId": "cf876590-c69c-4e4a-e8d4-3cf477380a47"
      },
      "execution_count": 16,
      "outputs": [
        {
          "output_type": "stream",
          "name": "stdout",
          "text": [
            "Epoch 1/5\n",
            "1500/1500 [==============================] - 7s 4ms/step - loss: 0.5196 - accuracy: 0.8201\n",
            "Epoch 2/5\n",
            "1500/1500 [==============================] - 4s 3ms/step - loss: 0.3948 - accuracy: 0.8594\n",
            "Epoch 3/5\n",
            "1500/1500 [==============================] - 4s 2ms/step - loss: 0.3521 - accuracy: 0.8724\n",
            "Epoch 4/5\n",
            "1500/1500 [==============================] - 5s 3ms/step - loss: 0.3264 - accuracy: 0.8813\n",
            "Epoch 5/5\n",
            "1500/1500 [==============================] - 3s 2ms/step - loss: 0.3047 - accuracy: 0.8876\n"
          ]
        },
        {
          "output_type": "execute_result",
          "data": {
            "text/plain": [
              "<keras.callbacks.History at 0x7fc40e2608d0>"
            ]
          },
          "metadata": {},
          "execution_count": 16
        }
      ]
    },
    {
      "cell_type": "code",
      "source": [
        "# 검증 세트 평가\n",
        "model.evaluate(val_scaled, val_target)"
      ],
      "metadata": {
        "colab": {
          "base_uri": "https://localhost:8080/"
        },
        "id": "OFiTuPbTMatW",
        "outputId": "2d89e457-2ab3-4a3f-cd84-c7bb312c5c45"
      },
      "execution_count": 17,
      "outputs": [
        {
          "output_type": "stream",
          "name": "stdout",
          "text": [
            "375/375 [==============================] - 2s 5ms/step - loss: 0.3459 - accuracy: 0.8737\n"
          ]
        },
        {
          "output_type": "execute_result",
          "data": {
            "text/plain": [
              "[0.3458954393863678, 0.8737499713897705]"
            ]
          },
          "metadata": {},
          "execution_count": 17
        }
      ]
    },
    {
      "cell_type": "markdown",
      "source": [
        "---\n",
        "\n",
        "## 7.3 신경망 모델 훈련\n",
        "\n",
        "---"
      ],
      "metadata": {
        "id": "96R8XZ9BPWrn"
      }
    },
    {
      "cell_type": "code",
      "source": [
        "# 데이터 준비\n",
        "from tensorflow import keras\n",
        "from sklearn.model_selection import train_test_split\n",
        "(train_input, train_target), (test_input, test_target) = \\\n",
        "keras.datasets.fashion_mnist.load_data()\n",
        "train_scaled = train_input / 255.0\n",
        "train_scaled, val_scaled, train_target, val_target = train_test_split(\n",
        "    train_scaled, train_target, test_size=0.2, random_state=42)"
      ],
      "metadata": {
        "id": "qCBLig5jY5kM"
      },
      "execution_count": 18,
      "outputs": []
    },
    {
      "cell_type": "code",
      "source": [
        "# 신경망 모델에 레이어를 추가하는 함수\n",
        "def model_fn(a_layer=None):\n",
        "  model = keras.Sequential()\n",
        "  model.add(keras.layers.Flatten(input_shape=(28, 28)))\n",
        "  model.add(keras.layers.Dense(100, activation='relu'))\n",
        "  if a_layer:\n",
        "    model.add(a_layer)\n",
        "  model.add(keras.layers.Dense(10, activation='softmax'))\n",
        "  return model"
      ],
      "metadata": {
        "id": "TIRfVWy5ZXBh"
      },
      "execution_count": 19,
      "outputs": []
    },
    {
      "cell_type": "code",
      "source": [
        "# 모델 생성, 컴파일, 훈련 및 히스토리 생성\n",
        "model = model_fn()\n",
        "model.compile(loss='sparse_categorical_crossentropy',\n",
        "              metrics='accuracy')\n",
        "history = model.fit(train_scaled, train_target, epochs=5, verbose=0)"
      ],
      "metadata": {
        "id": "QC93PRWdZz-q"
      },
      "execution_count": 20,
      "outputs": []
    },
    {
      "cell_type": "code",
      "source": [
        "# 히스토리를 이용해 에포크마다 손실을 plot\n",
        "import matplotlib.pyplot as plt\n",
        "plt.plot(history.history['loss'])\n",
        "plt.xlabel('epoch')\n",
        "plt.ylabel('loss')\n",
        "plt.show()"
      ],
      "metadata": {
        "colab": {
          "base_uri": "https://localhost:8080/",
          "height": 279
        },
        "id": "79mJhTCXaa2T",
        "outputId": "a47e08ca-7280-4ab7-9769-26376044da8d"
      },
      "execution_count": 21,
      "outputs": [
        {
          "output_type": "display_data",
          "data": {
            "text/plain": [
              "<Figure size 432x288 with 1 Axes>"
            ],
            "image/png": "[encoded data removed]"
          },
          "metadata": {
            "needs_background": "light"
          }
        }
      ]
    },
    {
      "cell_type": "code",
      "source": [
        "# 히스토리를 이용해 에포크마다 정확도를 plot\n",
        "import matplotlib.pyplot as plt\n",
        "plt.plot(history.history['accuracy'])\n",
        "plt.xlabel('epoch')\n",
        "plt.ylabel('accuracy')\n",
        "plt.show()"
      ],
      "metadata": {
        "colab": {
          "base_uri": "https://localhost:8080/",
          "height": 281
        },
        "id": "0AbbGZdWaygy",
        "outputId": "1d54476b-39ea-4263-a170-45d5772158cb"
      },
      "execution_count": 22,
      "outputs": [
        {
          "output_type": "display_data",
          "data": {
            "text/plain": [
              "<Figure size 432x288 with 1 Axes>"
            ],
            "image/png": "[encoded data removed]"
          },
          "metadata": {
            "needs_background": "light"
          }
        }
      ]
    },
    {
      "cell_type": "code",
      "source": [
        "# 에포크를 늘려서 다시 해보자\n",
        "model = model_fn()\n",
        "model.compile(loss='sparse_categorical_crossentropy',\n",
        "              metrics='accuracy')\n",
        "history = model.fit(train_scaled, train_target, epochs=20, verbose=0)\n",
        "plt.plot(history.history['loss'])\n",
        "plt.xlabel('epoch')\n",
        "plt.ylabel('loss')\n",
        "plt.show()"
      ],
      "metadata": {
        "colab": {
          "base_uri": "https://localhost:8080/",
          "height": 279
        },
        "id": "FHyO7eBTa5JR",
        "outputId": "5a48e65d-3d2f-4aad-bf4e-2343d1bcd5a5"
      },
      "execution_count": 23,
      "outputs": [
        {
          "output_type": "display_data",
          "data": {
            "text/plain": [
              "<Figure size 432x288 with 1 Axes>"
            ],
            "image/png": "[encoded data removed]"
          },
          "metadata": {
            "needs_background": "light"
          }
        }
      ]
    },
    {
      "cell_type": "code",
      "source": [
        "# 검증 세트의 손실함수도 같이 plot 해보자\n",
        "# model.fit()에 validation_data를 전달하면 됨\n",
        "model = model_fn()\n",
        "model.compile(loss='sparse_categorical_crossentropy',\n",
        "              metrics='accuracy')\n",
        "history = model.fit(train_scaled, train_target, \n",
        "                    epochs=20, verbose=0,\n",
        "                    validation_data=(val_scaled, val_target))\n",
        "\n",
        "# 그래프로 확인\n",
        "plt.plot(history.history['loss'])\n",
        "plt.plot(history.history['val_loss'])\n",
        "plt.xlabel('epoch')\n",
        "plt.ylabel('loss')\n",
        "plt.legend(['train', 'val'])\n",
        "plt.show()"
      ],
      "metadata": {
        "colab": {
          "base_uri": "https://localhost:8080/",
          "height": 279
        },
        "id": "1_g8s0fmt73q",
        "outputId": "05b8a5ef-d2fb-4834-8d01-c70161384bdd"
      },
      "execution_count": 24,
      "outputs": [
        {
          "output_type": "display_data",
          "data": {
            "text/plain": [
              "<Figure size 432x288 with 1 Axes>"
            ],
            "image/png": "[encoded data removed]"
          },
          "metadata": {
            "needs_background": "light"
          }
        }
      ]
    },
    {
      "cell_type": "code",
      "source": [
        "# 옵티마이저를 Adam으로 바꿔서 해보자\n",
        "model = model_fn()\n",
        "model.compile(optimizer='adam', \n",
        "              loss='sparse_categorical_crossentropy',\n",
        "              metrics='accuracy')\n",
        "history = model.fit(train_scaled, train_target, \n",
        "                    epochs=20, verbose=0,\n",
        "                    validation_data=(val_scaled, val_target))\n",
        "\n",
        "# 그래프로 확인\n",
        "fig, ax = plt.subplots(1, 2, figsize=(12, 6))\n",
        "ax[0].plot(history.history['loss'])\n",
        "ax[0].plot(history.history['val_loss'])\n",
        "ax[0].set(xlabel='epoch', ylabel='loss')\n",
        "ax[0].legend(['train', 'val'])\n",
        "ax[1].plot(history.history['accuracy'])\n",
        "ax[1].plot(history.history['val_accuracy'])\n",
        "ax[1].set(xlabel='epoch', ylabel='accuracy')\n",
        "ax[1].legend(['train', 'val'])\n",
        "\n",
        "plt.show()"
      ],
      "metadata": {
        "colab": {
          "base_uri": "https://localhost:8080/",
          "height": 388
        },
        "id": "pbcK5idjvaRA",
        "outputId": "d1680b48-e7c8-4ae5-815f-578f0d60acad"
      },
      "execution_count": 34,
      "outputs": [
        {
          "output_type": "display_data",
          "data": {
            "text/plain": [
              "<Figure size 864x432 with 2 Axes>"
            ],
            "image/png": "[encoded data removed]"
          },
          "metadata": {
            "needs_background": "light"
          }
        }
      ]
    },
    {
      "cell_type": "code",
      "source": [
        "# Adam의 학습률을 1e-4로 줄여보자\n",
        "model = model_fn()\n",
        "model.compile(optimizer=keras.optimizers.Adam(learning_rate=1e-4),\n",
        "              loss='sparse_categorical_crossentropy',\n",
        "              metrics='accuracy')\n",
        "history = model.fit(train_scaled, train_target, \n",
        "                    epochs=20, verbose=0,\n",
        "                    validation_data=(val_scaled, val_target))\n",
        "\n",
        "# 그래프로 확인\n",
        "fig, ax = plt.subplots(1, 2, figsize=(12, 6))\n",
        "ax[0].plot(history.history['loss'])\n",
        "ax[0].plot(history.history['val_loss'])\n",
        "ax[0].set(xlabel='epoch', ylabel='loss')\n",
        "ax[0].legend(['train', 'val'])\n",
        "ax[1].plot(history.history['accuracy'])\n",
        "ax[1].plot(history.history['val_accuracy'])\n",
        "ax[1].set(xlabel='epoch', ylabel='accuracy')\n",
        "ax[1].legend(['train', 'val'])\n",
        "\n",
        "plt.show()"
      ],
      "metadata": {
        "colab": {
          "base_uri": "https://localhost:8080/",
          "height": 388
        },
        "id": "0Xj821bZv23_",
        "outputId": "9b212468-0f60-4a12-8ae6-d337de141010"
      },
      "execution_count": 35,
      "outputs": [
        {
          "output_type": "display_data",
          "data": {
            "text/plain": [
              "<Figure size 864x432 with 2 Axes>"
            ],
            "image/png": "[encoded data removed]"
          },
          "metadata": {
            "needs_background": "light"
          }
        }
      ]
    },
    {
      "cell_type": "code",
      "source": [
        "# Adam의 학습률을 1e-5로 줄여보자\n",
        "model = model_fn()\n",
        "model.compile(optimizer=keras.optimizers.Adam(learning_rate=1e-5),\n",
        "              loss='sparse_categorical_crossentropy',\n",
        "              metrics='accuracy')\n",
        "history = model.fit(train_scaled, train_target, \n",
        "                    epochs=20, verbose=0,\n",
        "                    validation_data=(val_scaled, val_target))\n",
        "\n",
        "# 그래프로 확인\n",
        "fig, ax = plt.subplots(1, 2, figsize=(12, 6))\n",
        "ax[0].plot(history.history['loss'])\n",
        "ax[0].plot(history.history['val_loss'])\n",
        "ax[0].set(xlabel='epoch', ylabel='loss')\n",
        "ax[0].legend(['train', 'val'])\n",
        "ax[1].plot(history.history['accuracy'])\n",
        "ax[1].plot(history.history['val_accuracy'])\n",
        "ax[1].set(xlabel='epoch', ylabel='accuracy')\n",
        "ax[1].legend(['train', 'val'])\n",
        "\n",
        "plt.show()"
      ],
      "metadata": {
        "colab": {
          "base_uri": "https://localhost:8080/",
          "height": 388
        },
        "id": "6Q6DIRuxxCJx",
        "outputId": "b19beb75-b903-4585-a04e-54b1c221bda0"
      },
      "execution_count": 36,
      "outputs": [
        {
          "output_type": "display_data",
          "data": {
            "text/plain": [
              "<Figure size 864x432 with 2 Axes>"
            ],
            "image/png": "[encoded data removed]"
          },
          "metadata": {
            "needs_background": "light"
          }
        }
      ]
    },
    {
      "cell_type": "markdown",
      "source": [
        "---\n",
        "\n",
        "드롭아웃: 샘플마다 랜덤하게 은닉층의 뉴런을 일부러 뺌\n",
        "\n",
        "특정 뉴런에 과대하게 의존하지 못하게 방지함\n",
        "\n",
        "일부러 성능을 낮춘 모델을 여러 개 합치는 앙상블의 개념으로 생각할 수도 있음\n",
        "\n",
        "---"
      ],
      "metadata": {
        "id": "FPTlXwh2A-NE"
      }
    },
    {
      "cell_type": "code",
      "source": [
        "# 드롭아웃은 keras.layers.Dropout 클래스를 사용함\n",
        "# Dropout에 0.3을 넣으면 은닉층 뉴런 중 30%를 없앰\n",
        "model = model_fn(keras.layers.Dropout(0.3))\n",
        "model.summary()"
      ],
      "metadata": {
        "colab": {
          "base_uri": "https://localhost:8080/"
        },
        "id": "uNWex3CmA9l1",
        "outputId": "a878890f-7584-4d94-85e8-6790df9b25db"
      },
      "execution_count": 3,
      "outputs": [
        {
          "output_type": "stream",
          "name": "stdout",
          "text": [
            "Model: \"sequential\"\n",
            "_________________________________________________________________\n",
            " Layer (type)                Output Shape              Param #   \n",
            "=================================================================\n",
            " flatten (Flatten)           (None, 784)               0         \n",
            "                                                                 \n",
            " dense (Dense)               (None, 100)               78500     \n",
            "                                                                 \n",
            " dropout (Dropout)           (None, 100)               0         \n",
            "                                                                 \n",
            " dense_1 (Dense)             (None, 10)                1010      \n",
            "                                                                 \n",
            "=================================================================\n",
            "Total params: 79,510\n",
            "Trainable params: 79,510\n",
            "Non-trainable params: 0\n",
            "_________________________________________________________________\n"
          ]
        }
      ]
    },
    {
      "cell_type": "code",
      "source": [
        "# 컴파일, 훈련, 그래프 확인\n",
        "model.compile(optimizer='adam',\n",
        "              loss='sparse_categorical_crossentropy', \n",
        "              metrics='accuracy')\n",
        "history = model.fit(train_scaled, train_target,\n",
        "                    epochs=20, verbose=0, \n",
        "                    validation_data=(val_scaled, val_target))\n",
        "plt.plot(history.history['loss'])\n",
        "plt.plot(history.history['val_loss'])\n",
        "plt.xlabel('epoch')\n",
        "plt.ylabel('loss')\n",
        "plt.legend(['train', 'val'])\n",
        "plt.show()"
      ],
      "metadata": {
        "colab": {
          "base_uri": "https://localhost:8080/",
          "height": 279
        },
        "id": "lEySpuXSBr29",
        "outputId": "a103d5ac-e881-4baf-b68b-888fbd3b882e"
      },
      "execution_count": 6,
      "outputs": [
        {
          "output_type": "display_data",
          "data": {
            "text/plain": [
              "<Figure size 432x288 with 1 Axes>"
            ],
            "image/png": "[encoded data removed]"
          },
          "metadata": {
            "needs_background": "light"
          }
        }
      ]
    },
    {
      "cell_type": "markdown",
      "source": [
        "---\n",
        "\n",
        "훈련시킨 모델을 어딘가에 저장해야 나중에 써먹을 수 있음\n",
        "\n",
        "파라미터 저장은 save_weights() 메서드를 사용함\n",
        "\n",
        "모델 구조와 모델 파라미터를 같이 저장하려면 save() 메서드를 사용함\n",
        "\n",
        "\n",
        "---"
      ],
      "metadata": {
        "id": "DhllhQUyCk15"
      }
    },
    {
      "cell_type": "code",
      "source": [
        "# 13 에포크로 세팅하고 결과를 저장\n",
        "model = model_fn(keras.layers.Dropout(0.3))\n",
        "model.compile(optimizer='adam',\n",
        "              loss='sparse_categorical_crossentropy', \n",
        "              metrics='accuracy')\n",
        "history = model.fit(train_scaled, train_target,\n",
        "                    epochs=13, verbose=0, \n",
        "                    validation_data=(val_scaled, val_target))\n",
        "model.save_weights('model-weights.h5')\n",
        "model.save('model-whole.h5')\n",
        "!ls -al *.h5"
      ],
      "metadata": {
        "colab": {
          "base_uri": "https://localhost:8080/"
        },
        "id": "8GGYSffKCswi",
        "outputId": "55db1d5e-68b8-4893-e16b-04979e051a25"
      },
      "execution_count": 37,
      "outputs": [
        {
          "output_type": "stream",
          "name": "stdout",
          "text": [
            "-rw-r--r-- 1 root root 333272 Aug 21 12:59 model-weights.h5\n",
            "-rw-r--r-- 1 root root 982568 Aug 21 12:59 model-whole.h5\n"
          ]
        }
      ]
    },
    {
      "cell_type": "markdown",
      "source": [
        "---\n",
        "\n",
        "모델을 불러와서 사용하는 두 가지 방법\n",
        "\n",
        "1. 모델의 껍데기만 만들고 파라미터만 불러온다.\n",
        "  * save_weights()로 저장한 걸 load_weights()로 불러옴 \n",
        "2. 모델을 통채로 불러온다.\n",
        "  * save()로 저장한 모델을 load_model()로 불러옴\n",
        "\n",
        "---"
      ],
      "metadata": {
        "id": "HaOu1JlvMPa1"
      }
    },
    {
      "cell_type": "code",
      "source": [
        "# 첫 번째 방법: 저장한 파라미터를 load_weights()로 불러오기\n",
        "model = model_fn(keras.layers.Dropout(0.3))\n",
        "model.load_weights('model-weights.h5')\n",
        "\n",
        "import numpy as np\n",
        "val_labels = np.argmax(model.predict(val_scaled), axis=-1)\n",
        "print(np.mean(val_labels == val_target))"
      ],
      "metadata": {
        "colab": {
          "base_uri": "https://localhost:8080/"
        },
        "id": "AFVMYUD-MOnN",
        "outputId": "bb152578-afe5-45bc-e851-64cd5a6ffa8d"
      },
      "execution_count": 38,
      "outputs": [
        {
          "output_type": "stream",
          "name": "stdout",
          "text": [
            "0.8823333333333333\n"
          ]
        }
      ]
    },
    {
      "cell_type": "code",
      "source": [
        "# 두 번째 방법: 모델 전체를 load_model()로 불러오기\n",
        "model = keras.models.load_model('model-whole.h5')\n",
        "model.evaluate(val_scaled, val_target)"
      ],
      "metadata": {
        "colab": {
          "base_uri": "https://localhost:8080/"
        },
        "id": "WiZCz8J5NIRF",
        "outputId": "26c712b0-70dc-4640-86b8-be9b7f0efdeb"
      },
      "execution_count": 39,
      "outputs": [
        {
          "output_type": "stream",
          "name": "stdout",
          "text": [
            "375/375 [==============================] - 1s 4ms/step - loss: 0.3274 - accuracy: 0.8823\n"
          ]
        },
        {
          "output_type": "execute_result",
          "data": {
            "text/plain": [
              "[0.32739049196243286, 0.8823333382606506]"
            ]
          },
          "metadata": {},
          "execution_count": 39
        }
      ]
    },
    {
      "cell_type": "markdown",
      "source": [
        "---\n",
        "\n",
        "10 에포크를 정한 기준은 20 에포크의 결과였다.\n",
        "\n",
        "이걸 훈련 중간에 조건문처럼 멈추게 할 수 있을까?\n",
        "\n",
        "콜백을 사용하면 된다.\n",
        "\n",
        "* keras.callbacks.ModelCheckpoint\n",
        "  * 에포크마다 모델을 저장함\n",
        "  * save_best_only=True로 두면 loss가 가장 낮은 하나만 저장함\n",
        "\n",
        "* keras.callbacks.EarlyStopping\n",
        "  * loss가 낮아지지 않으면 훈련을 멈춤\n",
        "  * patience에 지정한 수만큼 기다렸다가 멈춤\n",
        "  * restore_best_weights=True로 두면 loss가 가장 낮은 모델 파라미터로 되돌아감\n",
        "---"
      ],
      "metadata": {
        "id": "wkgOzllENhit"
      }
    },
    {
      "cell_type": "code",
      "source": [
        "model = model_fn(keras.layers.Dropout(0.3))\n",
        "model.compile(optimizer='adam', \n",
        "              loss='sparse_categorical_crossentropy', \n",
        "              metrics='accuracy')\n",
        "\n",
        "# 에포크마다 모델 저장\n",
        "checkpoint_cb = keras.callbacks.ModelCheckpoint('best-model.h5', \n",
        "                                               save_best_only=True)\n",
        "\n",
        "# loss가 낮아지지 않으면 멈춤\n",
        "early_stopping_cb = keras.callbacks.EarlyStopping(patience=2, \n",
        "                                                  restore_best_weights=True)\n",
        "\n",
        "history = model.fit(train_scaled, train_target, \n",
        "          epochs=20, verbose=0,\n",
        "          validation_data=(val_scaled, val_target),\n",
        "          callbacks=[checkpoint_cb, early_stopping_cb])\n",
        "\n",
        "# 몇 에포크까지 돌았는지 확인\n",
        "print(early_stopping_cb.stopped_epoch)"
      ],
      "metadata": {
        "colab": {
          "base_uri": "https://localhost:8080/"
        },
        "id": "_GWsNTIdNtjL",
        "outputId": "378a01b7-ec17-40c0-9e42-cf9d06703bce"
      },
      "execution_count": 40,
      "outputs": [
        {
          "output_type": "stream",
          "name": "stdout",
          "text": [
            "13\n"
          ]
        }
      ]
    },
    {
      "cell_type": "code",
      "source": [
        "# 그래프로 확인\n",
        "plt.plot(history.history['loss'])\n",
        "plt.plot(history.history['val_loss'])\n",
        "plt.xlabel('epoch')\n",
        "plt.ylabel('loss')\n",
        "plt.legend(['train', 'val'])\n",
        "plt.show()"
      ],
      "metadata": {
        "colab": {
          "base_uri": "https://localhost:8080/",
          "height": 281
        },
        "id": "BDHJeDnuPyi8",
        "outputId": "d9d16152-0b49-4b6e-e328-fc971a3fd910"
      },
      "execution_count": 41,
      "outputs": [
        {
          "output_type": "display_data",
          "data": {
            "text/plain": [
              "<Figure size 432x288 with 1 Axes>"
            ],
            "image/png": "[encoded data removed]"
          },
          "metadata": {
            "needs_background": "light"
          }
        }
      ]
    },
    {
      "cell_type": "code",
      "source": [
        "# 검증 세트 평가\n",
        "model.evaluate(val_scaled, val_target)"
      ],
      "metadata": {
        "colab": {
          "base_uri": "https://localhost:8080/"
        },
        "id": "HVUt5-1-Py5r",
        "outputId": "9175c1d6-990c-43e1-885e-fe8c2cf87218"
      },
      "execution_count": 42,
      "outputs": [
        {
          "output_type": "stream",
          "name": "stdout",
          "text": [
            "375/375 [==============================] - 1s 2ms/step - loss: 0.3221 - accuracy: 0.8848\n"
          ]
        },
        {
          "output_type": "execute_result",
          "data": {
            "text/plain": [
              "[0.3220673203468323, 0.8847500085830688]"
            ]
          },
          "metadata": {},
          "execution_count": 42
        }
      ]
    }
  ]
}