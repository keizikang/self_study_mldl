{
  "nbformat": 4,
  "nbformat_minor": 0,
  "metadata": {
    "colab": {
      "name": "혼공머신 2장",
      "provenance": [],
      "collapsed_sections": [],
      "authorship_tag": "ABX9TyM3yOJ8c93c59ACcHX0TZzu",
      "include_colab_link": true
    },
    "kernelspec": {
      "name": "python3",
      "display_name": "Python 3"
    },
    "language_info": {
      "name": "python"
    }
  },
  "cells": [
    {
      "cell_type": "markdown",
      "metadata": {
        "id": "view-in-github",
        "colab_type": "text"
      },
      "source": [
        "<a href=\"https://colab.research.google.com/github/keizikang/self_study_mldl/blob/main/%ED%98%BC%EA%B3%B5%EB%A8%B8%EC%8B%A0_2%EC%9E%A5.ipynb\" target=\"_parent\"><img src=\"https://colab.research.google.com/assets/colab-badge.svg\" alt=\"Open In Colab\"/></a>"
      ]
    },
    {
      "cell_type": "markdown",
      "source": [
        "# 2장: 수상한 생선을 조심하라!"
      ],
      "metadata": {
        "id": "chOSt-qmDk0P"
      }
    },
    {
      "cell_type": "code",
      "source": [
        "bream_length = [25.4, 26.3, 26.5, 29.0, 29.0, 29.7, 29.7, 30.0, 30.0, 30.7, 31.0, 31.0, \n",
        "                31.5, 32.0, 32.0, 32.0, 33.0, 33.0, 33.5, 33.5, 34.0, 34.0, 34.5, 35.0, \n",
        "                35.0, 35.0, 35.0, 36.0, 36.0, 37.0, 38.5, 38.5, 39.5, 41.0, 41.0]\n",
        "bream_weight = [242.0, 290.0, 340.0, 363.0, 430.0, 450.0, 500.0, 390.0, 450.0, 500.0, 475.0, 500.0, \n",
        "                500.0, 340.0, 600.0, 600.0, 700.0, 700.0, 610.0, 650.0, 575.0, 685.0, 620.0, 680.0, \n",
        "                700.0, 725.0, 720.0, 714.0, 850.0, 1000.0, 920.0, 955.0, 925.0, 975.0, 950.0]\n",
        "smelt_length = [9.8, 10.5, 10.6, 11.0, 11.2, 11.3, 11.8, 11.8, 12.0, 12.2, 12.4, 13.0, 14.3, 15.0]\n",
        "smelt_weight = [6.7, 7.5, 7.0, 9.7, 9.8, 8.7, 10.0, 9.9, 9.8, 12.2, 13.4, 12.2, 19.7, 19.9]\n",
        "length = bream_length + smelt_length\n",
        "weight = bream_weight + smelt_weight\n",
        "fish_data = [[l, w] for l, w in zip(length, weight)]\n",
        "fish_target = [1] * 35 + [0] * 14\n",
        "\n",
        "from sklearn.neighbors import KNeighborsClassifier\n",
        "\n",
        "kn = KNeighborsClassifier()\n",
        "kn.fit(fish_data, fish_target) # 훈련\n",
        "kn.score(fish_data, fish_target) # 평가"
      ],
      "metadata": {
        "colab": {
          "base_uri": "https://localhost:8080/"
        },
        "outputId": "eb3375a7-f07f-47d1-afbe-6c440a7137ce",
        "id": "tA0PVr763hIz"
      },
      "execution_count": 75,
      "outputs": [
        {
          "output_type": "execute_result",
          "data": {
            "text/plain": [
              "1.0"
            ]
          },
          "metadata": {},
          "execution_count": 75
        }
      ]
    },
    {
      "cell_type": "code",
      "source": [
        "train_input = fish_data[:35]\n",
        "train_target = fish_target[:35]\n",
        "test_input = fish_data[35:]\n",
        "test_target = fish_target[35:]\n",
        "\n",
        "kn.fit(train_input, train_target) # 훈련\n",
        "kn.score(test_input, test_target) # 평가"
      ],
      "metadata": {
        "colab": {
          "base_uri": "https://localhost:8080/"
        },
        "id": "dRSMaj-RD0Z_",
        "outputId": "e7ff991d-5fa3-4c7d-84f2-ec800bee54da"
      },
      "execution_count": 76,
      "outputs": [
        {
          "output_type": "execute_result",
          "data": {
            "text/plain": [
              "0.0"
            ]
          },
          "metadata": {},
          "execution_count": 76
        }
      ]
    },
    {
      "cell_type": "code",
      "source": [
        "import matplotlib.pyplot as plt\n",
        "\n",
        "plt.scatter(kn._fit_X[:,0], kn._fit_X[:,1])\n",
        "plt.xlabel('length')\n",
        "plt.ylabel('weight')\n",
        "plt.xlim(8, 42)\n",
        "plt.ylim(-43, 1050)\n",
        "plt.show()"
      ],
      "metadata": {
        "colab": {
          "base_uri": "https://localhost:8080/",
          "height": 279
        },
        "id": "pKf2WXvXEkW5",
        "outputId": "8e434727-a64e-4573-fd38-c9bd10cd7e7d"
      },
      "execution_count": 77,
      "outputs": [
        {
          "output_type": "display_data",
          "data": {
            "text/plain": [
              "<Figure size 432x288 with 1 Axes>"
            ],
            "image/png": "[encoded data removed]"
          },
          "metadata": {
            "needs_background": "light"
          }
        }
      ]
    },
    {
      "cell_type": "code",
      "source": [
        "import numpy as np\n",
        "\n",
        "np.random.seed(42) # 매번 동일한 결과를 얻기 위함\n",
        "index = np.arange(len(length))\n",
        "np.random.shuffle(index)\n",
        "\n",
        "input_arr = np.array(fish_data)\n",
        "target_arr = np.array(fish_target)\n",
        "\n",
        "train_input = input_arr[index[:35]]\n",
        "train_target = target_arr[index[:35]]\n",
        "test_input = input_arr[index[35:]]\n",
        "test_target = target_arr[index[35:]]\n",
        "\n",
        "plt.scatter(train_input[:, 0], train_input[:, 1])\n",
        "plt.scatter(test_input[:, 0], test_input[:, 1])\n",
        "plt.xlabel('length')\n",
        "plt.ylabel('weight')\n",
        "plt.show()"
      ],
      "metadata": {
        "colab": {
          "base_uri": "https://localhost:8080/",
          "height": 279
        },
        "id": "PT3bWjmyIHW2",
        "outputId": "0f83b5f5-c8be-4803-d64c-2482b2e7c77c"
      },
      "execution_count": 78,
      "outputs": [
        {
          "output_type": "display_data",
          "data": {
            "text/plain": [
              "<Figure size 432x288 with 1 Axes>"
            ],
            "image/png": "[encoded data removed]"
          },
          "metadata": {
            "needs_background": "light"
          }
        }
      ]
    },
    {
      "cell_type": "code",
      "source": [
        "print(f'전체 데이터 중 도미 비율 = {sum(target_arr)/len(target_arr)*100: .1f}%')\n",
        "print(f'훈련 세트 중 도미 비율 = {sum(train_target)/len(train_target)*100: .1f}%')\n",
        "print(f'테스트 세트 중 도미 비율 = {sum(test_target)/len(test_target)*100: .1f}%')"
      ],
      "metadata": {
        "colab": {
          "base_uri": "https://localhost:8080/"
        },
        "id": "RieBTYW4PzHB",
        "outputId": "94e70a5b-f969-40a4-e66d-66b295cee347"
      },
      "execution_count": 79,
      "outputs": [
        {
          "output_type": "stream",
          "name": "stdout",
          "text": [
            "전체 데이터 중 도미 비율 =  71.4%\n",
            "훈련 세트 중 도미 비율 =  77.1%\n",
            "테스트 세트 중 도미 비율 =  57.1%\n"
          ]
        }
      ]
    },
    {
      "cell_type": "code",
      "source": [
        "fish_data = np.array(fish_data)\n",
        "fish_target = np.array(fish_target)\n",
        "\n",
        "from sklearn.model_selection import train_test_split\n",
        "\n",
        "train_input, test_input, train_target, test_target = train_test_split(\n",
        "    fish_data, fish_target, stratify=fish_target, random_state=42)\n",
        "\n",
        "plt.scatter(train_input[:, 0], train_input[:, 1])\n",
        "plt.scatter(test_input[:, 0], test_input[:, 1])\n",
        "plt.xlabel('length')\n",
        "plt.ylabel('weight')\n",
        "plt.show()\n",
        "\n",
        "print(f'전체 데이터 중 도미 비율 = {sum(target_arr)/len(target_arr)*100: .1f}%')\n",
        "print(f'훈련 세트 중 도미 비율 = {sum(train_target)/len(train_target)*100: .1f}%')\n",
        "print(f'테스트 세트 중 도미 비율 = {sum(test_target)/len(test_target)*100: .1f}%')\n",
        "\n",
        "print(test_target)"
      ],
      "metadata": {
        "colab": {
          "base_uri": "https://localhost:8080/",
          "height": 354
        },
        "id": "EDZuHldoLuI6",
        "outputId": "c998bc03-8773-45f4-9d00-569a05de0b4a"
      },
      "execution_count": 80,
      "outputs": [
        {
          "output_type": "display_data",
          "data": {
            "text/plain": [
              "<Figure size 432x288 with 1 Axes>"
            ],
            "image/png": "[encoded data removed]"
          },
          "metadata": {
            "needs_background": "light"
          }
        },
        {
          "output_type": "stream",
          "name": "stdout",
          "text": [
            "전체 데이터 중 도미 비율 =  71.4%\n",
            "훈련 세트 중 도미 비율 =  72.2%\n",
            "테스트 세트 중 도미 비율 =  69.2%\n",
            "[0 0 1 0 1 0 1 1 1 1 1 1 1]\n"
          ]
        }
      ]
    },
    {
      "cell_type": "code",
      "source": [
        "kn.fit(train_input, train_target) # 훈련은 train_*로\n",
        "kn.score(test_input, test_target) # 평가는 test_*로"
      ],
      "metadata": {
        "colab": {
          "base_uri": "https://localhost:8080/"
        },
        "id": "BKgtuVEa-791",
        "outputId": "5f8799ee-9e1c-423b-bcad-a152ede7caf4"
      },
      "execution_count": 81,
      "outputs": [
        {
          "output_type": "execute_result",
          "data": {
            "text/plain": [
              "1.0"
            ]
          },
          "metadata": {},
          "execution_count": 81
        }
      ]
    },
    {
      "cell_type": "code",
      "source": [
        "idx_bream_train = np.where(train_target == 1)\n",
        "idx_smelt_train = np.where(train_target == 0)\n",
        "\n",
        "test_result = kn.predict(test_input)\n",
        "idx_bream_test = np.where(test_result == 1)\n",
        "idx_smelt_test = np.where(test_result == 0)\n",
        "\n",
        "plt.scatter(*train_input[idx_bream_train, :].T, label='bream, train')\n",
        "plt.scatter(*test_input[idx_bream_test, :].T, marker='^', label='bream, test')\n",
        "plt.scatter(*train_input[idx_smelt_train, :].T, label='smelt, train')\n",
        "plt.scatter(*test_input[idx_smelt_test, :].T, marker='D', label='smelt, test')\n",
        "\n",
        "plt.xlabel('length')\n",
        "plt.ylabel('weight')\n",
        "plt.legend()\n",
        "plt.show()"
      ],
      "metadata": {
        "colab": {
          "base_uri": "https://localhost:8080/",
          "height": 279
        },
        "id": "B4Qy9zE9StAr",
        "outputId": "2c2fa147-eadc-4fac-855f-afa056240e8a"
      },
      "execution_count": 82,
      "outputs": [
        {
          "output_type": "display_data",
          "data": {
            "text/plain": [
              "<Figure size 432x288 with 1 Axes>"
            ],
            "image/png": "[encoded data removed]"
          },
          "metadata": {
            "needs_background": "light"
          }
        }
      ]
    },
    {
      "cell_type": "markdown",
      "source": [
        "# 02-2 Data preprocessing\n",
        "\n",
        "What would be the model's prediction for a fish with 25 cm and 150 g? Anyone would say it must be bream, but the model says it's smelt. \n",
        "\n",
        "The point is distance. The scale of length is much smaller than weight. Then the distance of two points is dominated by weight whilest the effect of length would be underestimated. \n",
        "\n",
        "This is why the data should be proprecessed.\n",
        "\n"
      ],
      "metadata": {
        "id": "_zVUSS4nI0yE"
      }
    },
    {
      "cell_type": "code",
      "source": [
        "plt.scatter(bream_length, bream_weight, label='bream, train+test')\n",
        "plt.scatter(smelt_length, smelt_weight, label='smelt, train+test')\n",
        "plt.scatter(25, 150, marker='D', label='new fish')\n",
        "plt.xlabel('length')\n",
        "plt.ylabel('weight')\n",
        "plt.legend()\n",
        "plt.show()"
      ],
      "metadata": {
        "id": "8BqA5hngcfoW",
        "colab": {
          "base_uri": "https://localhost:8080/",
          "height": 279
        },
        "outputId": "4efe46f9-2cdf-404e-cf5e-cdf5ca300d56"
      },
      "execution_count": 83,
      "outputs": [
        {
          "output_type": "display_data",
          "data": {
            "text/plain": [
              "<Figure size 432x288 with 1 Axes>"
            ],
            "image/png": "[encoded data removed]"
          },
          "metadata": {
            "needs_background": "light"
          }
        }
      ]
    },
    {
      "cell_type": "code",
      "source": [
        "kn.predict([[25, 150]])"
      ],
      "metadata": {
        "colab": {
          "base_uri": "https://localhost:8080/"
        },
        "id": "sucpmNiPApMP",
        "outputId": "45d2f631-1846-4a7c-a269-5634a95c48d2"
      },
      "execution_count": 84,
      "outputs": [
        {
          "output_type": "execute_result",
          "data": {
            "text/plain": [
              "array([0])"
            ]
          },
          "metadata": {},
          "execution_count": 84
        }
      ]
    },
    {
      "cell_type": "code",
      "source": [
        "distances, indexes = kn.kneighbors([[25, 150]])\n",
        "\n",
        "plt.scatter(*train_input.T, label='all fish, train')\n",
        "plt.scatter(25, 150, marker='D', label='new fish')\n",
        "plt.scatter(*train_input[indexes, :].T, marker='D')\n",
        "plt.axis('square')\n",
        "plt.xlabel('length')\n",
        "plt.ylabel('weight')\n",
        "plt.legend()\n",
        "plt.show()"
      ],
      "metadata": {
        "colab": {
          "base_uri": "https://localhost:8080/",
          "height": 279
        },
        "id": "itECMWvDFgd8",
        "outputId": "aabdb3dc-e56e-439a-c89c-9571859fd20a"
      },
      "execution_count": 85,
      "outputs": [
        {
          "output_type": "display_data",
          "data": {
            "text/plain": [
              "<Figure size 432x288 with 1 Axes>"
            ],
            "image/png": "[encoded data removed]"
          },
          "metadata": {
            "needs_background": "light"
          }
        }
      ]
    },
    {
      "cell_type": "code",
      "source": [
        "kn.n_neighbors = 1\n",
        "kn.predict([[25, 150]])"
      ],
      "metadata": {
        "colab": {
          "base_uri": "https://localhost:8080/"
        },
        "id": "vbJVeP1bFndC",
        "outputId": "48933304-95fb-4935-e704-d58eb59cbb6e"
      },
      "execution_count": 86,
      "outputs": [
        {
          "output_type": "execute_result",
          "data": {
            "text/plain": [
              "array([1])"
            ]
          },
          "metadata": {},
          "execution_count": 86
        }
      ]
    },
    {
      "cell_type": "code",
      "source": [
        "mean = np.mean(train_input, axis=0)\n",
        "std = np.std(train_input, axis=0)\n",
        "\n",
        "train_scaled = (train_input - mean) / std\n",
        "test_scaled = (test_input - mean) / std"
      ],
      "metadata": {
        "id": "P2_9m4kcWPyf"
      },
      "execution_count": 87,
      "outputs": []
    },
    {
      "cell_type": "code",
      "source": [
        "print(np.mean(train_scaled, axis=0), np.std(train_scaled, axis=0))\n",
        "print(np.mean(test_scaled, axis=0), np.std(test_scaled, axis=0))"
      ],
      "metadata": {
        "colab": {
          "base_uri": "https://localhost:8080/"
        },
        "id": "C-FujT7mXJHg",
        "outputId": "7545c732-73da-4e18-a01b-8edf9c3c0c5b"
      },
      "execution_count": 88,
      "outputs": [
        {
          "output_type": "stream",
          "name": "stdout",
          "text": [
            "[ 5.24271984e-16 -1.97372982e-16] [1. 1.]\n",
            "[-0.0914212 -0.1118907] [1.05453924 1.0125999 ]\n"
          ]
        }
      ]
    },
    {
      "cell_type": "code",
      "source": [
        "kn.n_neighbors = 5\n",
        "kn.fit(train_scaled, train_target)\n",
        "kn.score(test_scaled, test_target)"
      ],
      "metadata": {
        "colab": {
          "base_uri": "https://localhost:8080/"
        },
        "id": "uN6uFM1gW7Rh",
        "outputId": "ee7a84c6-6760-4fd9-c410-ea168177e2b5"
      },
      "execution_count": 89,
      "outputs": [
        {
          "output_type": "execute_result",
          "data": {
            "text/plain": [
              "1.0"
            ]
          },
          "metadata": {},
          "execution_count": 89
        }
      ]
    },
    {
      "cell_type": "code",
      "source": [
        "new = ([25, 150] - mean) / std\n",
        "print(kn.predict([new]))"
      ],
      "metadata": {
        "colab": {
          "base_uri": "https://localhost:8080/"
        },
        "id": "k4GP5IN3YrOZ",
        "outputId": "e0748afe-8af9-4a36-de3a-5f0885b3e298"
      },
      "execution_count": 90,
      "outputs": [
        {
          "output_type": "stream",
          "name": "stdout",
          "text": [
            "[1]\n"
          ]
        }
      ]
    },
    {
      "cell_type": "code",
      "source": [
        "distances, indexes = kn.kneighbors([new])\n",
        "plt.scatter(*train_scaled.T, label='all fish, train, scaled')\n",
        "plt.scatter(*new.T, marker='^', label='new, scaled')\n",
        "plt.scatter(*train_scaled[indexes, :].T, marker='D', label='nearest to new, scaled')\n",
        "plt.xlabel('length')\n",
        "plt.ylabel('weight')\n",
        "plt.legend()\n",
        "plt.show()"
      ],
      "metadata": {
        "colab": {
          "base_uri": "https://localhost:8080/",
          "height": 279
        },
        "id": "-aBL9A6cYm6c",
        "outputId": "73be4688-2290-4104-cdda-3c6cd9c1de51"
      },
      "execution_count": 92,
      "outputs": [
        {
          "output_type": "display_data",
          "data": {
            "text/plain": [
              "<Figure size 432x288 with 1 Axes>"
            ],
            "image/png": "[encoded data removed]"
          },
          "metadata": {
            "needs_background": "light"
          }
        }
      ]
    },
    {
      "cell_type": "code",
      "source": [
        ""
      ],
      "metadata": {
        "id": "2PIWmxHqboDG"
      },
      "execution_count": null,
      "outputs": []
    }
  ]
}